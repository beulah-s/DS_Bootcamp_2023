{
  "nbformat": 4,
  "nbformat_minor": 0,
  "metadata": {
    "colab": {
      "provenance": [],
      "authorship_tag": "ABX9TyMeuo9eecw+hi+NB4fZXgK8",
      "include_colab_link": true
    },
    "kernelspec": {
      "name": "python3",
      "display_name": "Python 3"
    },
    "language_info": {
      "name": "python"
    }
  },
  "cells": [
    {
      "cell_type": "markdown",
      "metadata": {
        "id": "view-in-github",
        "colab_type": "text"
      },
      "source": [
        "<a href=\"https://colab.research.google.com/github/beulah-s/DS_Bootcamp_2023/blob/main/HW9_samuel_beulah.ipynb\" target=\"_parent\"><img src=\"https://colab.research.google.com/assets/colab-badge.svg\" alt=\"Open In Colab\"/></a>"
      ]
    },
    {
      "cell_type": "markdown",
      "source": [
        "####**Neural Nets with Keras**"
      ],
      "metadata": {
        "id": "mJEb94iZMOiL"
      }
    },
    {
      "cell_type": "code",
      "execution_count": 1,
      "metadata": {
        "id": "AYh8qUH2MGNS"
      },
      "outputs": [],
      "source": [
        "# keras.io code:\n",
        "from keras.layers import Dense\n",
        "output_layer = Dense(10)\n",
        "\n",
        "# corresponding tf.keras code:\n",
        "from tensorflow.keras.layers import Dense\n",
        "output_layer = Dense(10)\n",
        "\n",
        "# or:\n",
        "from tensorflow import keras\n",
        "output_layer = keras.layers.Dense(10)"
      ]
    },
    {
      "cell_type": "code",
      "source": [
        "%matplotlib inline\n",
        "%load_ext tensorboard\n",
        "import matplotlib as mpl\n",
        "import matplotlib.pyplot as plt\n",
        "import numpy as np\n",
        "import os\n",
        "import pandas as pd\n",
        "import sklearn\n",
        "import sys\n",
        "import tensorflow as tf\n",
        "from tensorflow import keras  # tf.keras\n",
        "import time"
      ],
      "metadata": {
        "id": "5P03hKEKMeSg"
      },
      "execution_count": 2,
      "outputs": []
    },
    {
      "cell_type": "code",
      "source": [
        "print(\"python\", sys.version)\n",
        "for module in mpl, np, pd, sklearn, tf, keras:\n",
        "    print(module.__name__, module.__version__)"
      ],
      "metadata": {
        "colab": {
          "base_uri": "https://localhost:8080/"
        },
        "id": "lUkrUNSzMnlO",
        "outputId": "9cf8a20a-947b-48eb-eac1-ce2b869b7978"
      },
      "execution_count": 3,
      "outputs": [
        {
          "output_type": "stream",
          "name": "stdout",
          "text": [
            "python 3.10.12 (main, Jun 11 2023, 05:26:28) [GCC 11.4.0]\n",
            "matplotlib 3.7.1\n",
            "numpy 1.23.5\n",
            "pandas 1.5.3\n",
            "sklearn 1.2.2\n",
            "tensorflow 2.12.0\n",
            "tensorflow.keras 2.12.0\n"
          ]
        }
      ]
    },
    {
      "cell_type": "code",
      "source": [
        "assert sys.version_info >= (3, 5) # Python ≥3.5 required\n",
        "assert tf.__version__ >= \"2.0\"    # TensorFlow ≥2.0 required"
      ],
      "metadata": {
        "id": "jed5VbbYMu_R"
      },
      "execution_count": 4,
      "outputs": []
    },
    {
      "cell_type": "markdown",
      "source": [
        "####**Exercise 1 - Tensorflow playground**\n",
        "#####https://colab.research.google.com/corgiredirector?site=http%3A%2F%2Fplayground.tensorflow.org"
      ],
      "metadata": {
        "id": "4EV-Tf_ZM3Ih"
      }
    },
    {
      "cell_type": "markdown",
      "source": [
        "####**Exercise 2 – Image classification with tf.keras**"
      ],
      "metadata": {
        "id": "meNeLhriNIhh"
      }
    },
    {
      "cell_type": "code",
      "source": [
        "#Load the Fashion MNIST dataset\n",
        "fashion_mnist = keras.datasets.fashion_mnist\n",
        "(X_train_full, y_train_full), (X_test, y_test) = (\n",
        "    fashion_mnist.load_data())\n",
        "X_valid, X_train = X_train_full[:5000], X_train_full[5000:]\n",
        "y_valid, y_train = y_train_full[:5000], y_train_full[5000:]"
      ],
      "metadata": {
        "colab": {
          "base_uri": "https://localhost:8080/"
        },
        "id": "KGTynGxFNSAm",
        "outputId": "fb401b4f-67ee-4e16-a629-92c1341b54e3"
      },
      "execution_count": 5,
      "outputs": [
        {
          "output_type": "stream",
          "name": "stdout",
          "text": [
            "Downloading data from https://storage.googleapis.com/tensorflow/tf-keras-datasets/train-labels-idx1-ubyte.gz\n",
            "29515/29515 [==============================] - 0s 1us/step\n",
            "Downloading data from https://storage.googleapis.com/tensorflow/tf-keras-datasets/train-images-idx3-ubyte.gz\n",
            "26421880/26421880 [==============================] - 2s 0us/step\n",
            "Downloading data from https://storage.googleapis.com/tensorflow/tf-keras-datasets/t10k-labels-idx1-ubyte.gz\n",
            "5148/5148 [==============================] - 0s 0us/step\n",
            "Downloading data from https://storage.googleapis.com/tensorflow/tf-keras-datasets/t10k-images-idx3-ubyte.gz\n",
            "4422102/4422102 [==============================] - 1s 0us/step\n"
          ]
        }
      ]
    },
    {
      "cell_type": "code",
      "source": [
        "X_train.shape"
      ],
      "metadata": {
        "colab": {
          "base_uri": "https://localhost:8080/"
        },
        "id": "L5apHx_DNjHy",
        "outputId": "df3b6da5-8e32-489e-c692-78aa3da420cf"
      },
      "execution_count": 6,
      "outputs": [
        {
          "output_type": "execute_result",
          "data": {
            "text/plain": [
              "(55000, 28, 28)"
            ]
          },
          "metadata": {},
          "execution_count": 6
        }
      ]
    },
    {
      "cell_type": "code",
      "source": [
        "X_train[0]"
      ],
      "metadata": {
        "colab": {
          "base_uri": "https://localhost:8080/"
        },
        "id": "2UNuekyZNnlT",
        "outputId": "342634f0-cad7-43b8-8542-0f25674225a3"
      },
      "execution_count": 7,
      "outputs": [
        {
          "output_type": "execute_result",
          "data": {
            "text/plain": [
              "array([[  0,   0,   0,   0,   0,   0,   0,   0,   0,   0,   0,   0,   0,\n",
              "          0,   0,   0,   0,   0,   0,   1,   0,   0,   0,   0,   0,   0,\n",
              "          0,   0],\n",
              "       [  0,   0,   0,   0,   0,   0,   0,   0,   0,   0,   0,  44, 127,\n",
              "        182, 185, 161, 120,  55,   0,   0,   0,   0,   0,   0,   0,   0,\n",
              "          0,   0],\n",
              "       [  0,   0,   0,   0,   0,   0,   0,   0,   0,  42, 198, 251, 255,\n",
              "        251, 249, 247, 255, 252, 214, 100,   0,   0,   0,   0,   0,   0,\n",
              "          0,   0],\n",
              "       [  0,   0,   0,   0,   0,   0,   2,   0,   0, 233, 252, 237, 239,\n",
              "        234, 237, 235, 237, 237, 254, 227,   0,   0,   0,   0,   1,   0,\n",
              "          0,   0],\n",
              "       [  0,   0,   0,   0,   0,   2,   0,   0,  16, 210, 225, 215, 175,\n",
              "        217, 216, 193, 196, 226, 221, 209,  50,   0,   0,   2,   0,   0,\n",
              "          0,   0],\n",
              "       [  0,   0,   0,   0,   2,   0,   0, 199, 229, 232, 230, 245, 204,\n",
              "        219, 253, 245, 207, 194, 223, 231, 236, 235,   0,   0,   3,   0,\n",
              "          0,   0],\n",
              "       [  0,   0,   0,   0,   1,   0, 137, 235, 204, 209, 201, 209, 234,\n",
              "        190, 234, 218, 215, 238, 239, 204, 189, 224, 154,   0,   0,   0,\n",
              "          0,   0],\n",
              "       [  0,   0,   0,   0,   0,   0, 194, 201, 200, 209, 202, 193, 205,\n",
              "        194, 183, 218, 231, 197, 172, 181, 193, 205, 199,   0,   0,   0,\n",
              "          0,   0],\n",
              "       [  0,   0,   0,   0,   0,   3, 212, 203, 188, 189, 196, 198, 198,\n",
              "        201, 196, 217, 179, 167, 183, 217, 197, 202, 219,  30,   0,   0,\n",
              "          0,   0],\n",
              "       [  0,   0,   0,   0,   0,  34, 225, 200, 194, 190, 188, 192, 196,\n",
              "        192, 170, 202, 190, 201, 195, 200, 201, 209, 227,  50,   0,   0,\n",
              "          0,   0],\n",
              "       [  0,   0,   0,   0,   0,  68, 225, 210, 211, 198, 192, 196, 204,\n",
              "        196, 181, 212, 197, 195, 192, 206, 220, 210, 229,  93,   0,   0,\n",
              "          0,   0],\n",
              "       [  0,   0,   0,   0,   0, 111, 223, 227, 253, 209, 196, 204, 211,\n",
              "        206, 183, 216, 206, 210, 203, 215, 244, 224, 227, 150,   0,   0,\n",
              "          0,   0],\n",
              "       [  0,   0,   0,   0,   0, 139, 225, 224, 255, 202, 206, 212, 209,\n",
              "        211, 190, 213, 202, 207, 206, 222, 255, 230, 220, 190,   0,   0,\n",
              "          0,   0],\n",
              "       [  0,   0,   0,   0,   0, 180, 226, 224, 255, 199, 204, 207, 214,\n",
              "        214, 190, 216, 206, 203, 205, 219, 243, 224, 214, 234,   0,   0,\n",
              "          0,   0],\n",
              "       [  0,   0,   0,   0,   0, 225, 223, 228, 254, 209, 206, 208, 213,\n",
              "        210, 191, 215, 207, 204, 208, 211, 249, 226, 214, 255,  38,   0,\n",
              "          0,   0],\n",
              "       [  0,   0,   0,   0,   0, 250, 232, 240, 239, 211, 203, 209, 205,\n",
              "        211, 197, 215, 208, 208, 214, 213, 239, 231, 219, 255,  81,   0,\n",
              "          0,   0],\n",
              "       [  0,   0,   0,   0,   0, 248, 236, 247, 240, 203, 200, 208, 206,\n",
              "        214, 193, 213, 212, 208, 212, 211, 243, 242, 225, 254,  66,   0,\n",
              "          0,   0],\n",
              "       [  0,   0,   0,   0,   0, 247, 230, 252, 226, 199, 211, 202, 211,\n",
              "        213, 182, 213, 212, 206, 202, 219, 207, 247, 222, 237, 104,   0,\n",
              "          0,   0],\n",
              "       [  0,   0,   0,   0,  10, 244, 219, 250, 205, 199, 209, 202, 209,\n",
              "        211, 189, 214, 206, 210, 200, 212, 154, 240, 208, 219, 140,   0,\n",
              "          0,   0],\n",
              "       [  0,   0,   0,   0,  21, 255, 222, 238, 184, 210, 192, 206, 209,\n",
              "        210, 189, 213, 211, 209, 192, 228, 155, 226, 238, 241, 166,   0,\n",
              "          0,   0],\n",
              "       [  0,   0,   0,   0,  37, 245, 226, 241, 150, 197, 189, 204, 209,\n",
              "        210, 183, 213, 213, 201, 184, 215, 146, 216, 236, 225, 154,   0,\n",
              "          0,   0],\n",
              "       [  0,   0,   0,   0,  58, 239, 227, 255, 158, 193, 195, 204, 209,\n",
              "        213, 180, 207, 217, 199, 194, 211, 158, 219, 236, 216, 151,   0,\n",
              "          0,   0],\n",
              "       [  0,   0,   0,   0,  68, 233, 226, 243, 139, 200, 193, 205, 210,\n",
              "        208, 180, 205, 212, 203, 196, 216, 157, 179, 255, 216, 155,   0,\n",
              "          0,   0],\n",
              "       [  0,   0,   0,   0,  81, 225, 224, 211, 138, 219, 185, 201, 213,\n",
              "        207, 197, 226, 212, 200, 190, 215, 183,  90, 255, 211, 147,   0,\n",
              "          0,   0],\n",
              "       [  0,   0,   0,   0,  91, 210, 230, 158, 114, 205, 187, 208, 209,\n",
              "        206, 193, 210, 211, 204, 195, 204, 181,  23, 255, 213, 158,   0,\n",
              "          0,   0],\n",
              "       [  0,   0,   0,   0,  87, 205, 232, 109, 164, 255, 214, 224, 222,\n",
              "        210, 197, 214, 225, 222, 211, 220, 217,   0, 234, 216, 169,   0,\n",
              "          0,   0],\n",
              "       [  0,   0,   0,   0,  92, 213, 232, 146,   5, 134, 151, 162, 170,\n",
              "        183, 182, 164, 166, 178, 162, 156,  98,   0, 240, 225, 210,   0,\n",
              "          0,   0],\n",
              "       [  0,   0,   0,   0,  43, 164, 206, 141,   0,   0,   0,   0,   0,\n",
              "          0,   0,   0,   0,   0,   0,   0,   0,   0, 127, 125,  76,   0,\n",
              "          0,   0]], dtype=uint8)"
            ]
          },
          "metadata": {},
          "execution_count": 7
        }
      ]
    },
    {
      "cell_type": "code",
      "source": [
        "plt.imshow(X_train[0], cmap=\"binary\")\n",
        "plt.show()"
      ],
      "metadata": {
        "colab": {
          "base_uri": "https://localhost:8080/",
          "height": 430
        },
        "id": "q1b6yB8KNsw1",
        "outputId": "d7206129-0df9-4259-95e7-add7f2657f78"
      },
      "execution_count": 8,
      "outputs": [
        {
          "output_type": "display_data",
          "data": {
            "text/plain": [
              "<Figure size 640x480 with 1 Axes>"
            ],
            "image/png": "[encoded data removed]"
          },
          "metadata": {}
        }
      ]
    },
    {
      "cell_type": "code",
      "source": [
        "y_train"
      ],
      "metadata": {
        "colab": {
          "base_uri": "https://localhost:8080/"
        },
        "id": "-1Kz62nfNxY7",
        "outputId": "b09f87fd-6d77-4865-f093-257134331940"
      },
      "execution_count": 9,
      "outputs": [
        {
          "output_type": "execute_result",
          "data": {
            "text/plain": [
              "array([4, 0, 7, ..., 3, 0, 5], dtype=uint8)"
            ]
          },
          "metadata": {},
          "execution_count": 9
        }
      ]
    },
    {
      "cell_type": "code",
      "source": [
        "class_names = [\"T-shirt/top\", \"Trouser\", \"Pullover\", \"Dress\", \"Coat\",\n",
        "               \"Sandal\", \"Shirt\", \"Sneaker\", \"Bag\", \"Ankle boot\"]"
      ],
      "metadata": {
        "id": "xDXj_r2mN50V"
      },
      "execution_count": 10,
      "outputs": []
    },
    {
      "cell_type": "code",
      "source": [
        "class_names[y_train[0]]"
      ],
      "metadata": {
        "colab": {
          "base_uri": "https://localhost:8080/",
          "height": 35
        },
        "id": "kcFZItQhN96Y",
        "outputId": "9da87c1f-36f7-4d1a-e93f-73ad922f2f67"
      },
      "execution_count": 11,
      "outputs": [
        {
          "output_type": "execute_result",
          "data": {
            "text/plain": [
              "'Coat'"
            ],
            "application/vnd.google.colaboratory.intrinsic+json": {
              "type": "string"
            }
          },
          "metadata": {},
          "execution_count": 11
        }
      ]
    },
    {
      "cell_type": "code",
      "source": [
        "X_valid.shape"
      ],
      "metadata": {
        "colab": {
          "base_uri": "https://localhost:8080/"
        },
        "id": "U4UxbYu_OCLU",
        "outputId": "e2eb0cd2-5885-4eeb-e3d7-acdda6551067"
      },
      "execution_count": 12,
      "outputs": [
        {
          "output_type": "execute_result",
          "data": {
            "text/plain": [
              "(5000, 28, 28)"
            ]
          },
          "metadata": {},
          "execution_count": 12
        }
      ]
    },
    {
      "cell_type": "code",
      "source": [
        "X_test.shape"
      ],
      "metadata": {
        "colab": {
          "base_uri": "https://localhost:8080/"
        },
        "id": "eqHmnL5AOGg1",
        "outputId": "eeb1ec3a-dd9d-4d25-ff42-adf675292338"
      },
      "execution_count": 13,
      "outputs": [
        {
          "output_type": "execute_result",
          "data": {
            "text/plain": [
              "(10000, 28, 28)"
            ]
          },
          "metadata": {},
          "execution_count": 13
        }
      ]
    },
    {
      "cell_type": "code",
      "source": [
        "# Sample of images in the dataset\n",
        "n_rows = 5\n",
        "n_cols = 10\n",
        "plt.figure(figsize=(n_cols*1.4, n_rows * 1.6))\n",
        "for row in range(n_rows):\n",
        "    for col in range(n_cols):\n",
        "        index = n_cols * row + col\n",
        "        plt.subplot(n_rows, n_cols, index + 1)\n",
        "        plt.imshow(X_train[index], cmap=\"binary\", interpolation=\"nearest\")\n",
        "        plt.axis('off')\n",
        "        plt.title(class_names[y_train[index]])\n",
        "plt.show()"
      ],
      "metadata": {
        "colab": {
          "base_uri": "https://localhost:8080/",
          "height": 661
        },
        "id": "grvIbBMfOMDn",
        "outputId": "23cc5b1d-8705-4aa1-c91d-ac974a36264f"
      },
      "execution_count": 14,
      "outputs": [
        {
          "output_type": "display_data",
          "data": {
            "text/plain": [
              "<Figure size 1400x800 with 50 Axes>"
            ],
            "image/png": "[encoded data removed]"
          },
          "metadata": {}
        }
      ]
    },
    {
      "cell_type": "markdown",
      "source": [
        "####**Build a classification neural network with Keras**"
      ],
      "metadata": {
        "id": "FPZWRXiMOWds"
      }
    },
    {
      "cell_type": "code",
      "source": [
        "#2.1 Build a sequential model\n",
        "model = keras.models.Sequential()\n",
        "model.add(keras.layers.Flatten(input_shape=[28,28]))\n",
        "model.add(keras.layers.Dense(300, activation=\"relu\"))"
      ],
      "metadata": {
        "id": "35wEkzflOZBB"
      },
      "execution_count": 15,
      "outputs": []
    },
    {
      "cell_type": "code",
      "source": [
        "#2.2 pass through 4 layers\n",
        "model = keras.models.Sequential([\n",
        "    keras.layers.Flatten(input_shape=[28, 28]),\n",
        "    keras.layers.Dense(300, activation=\"relu\"),\n",
        "    keras.layers.Dense(100, activation=\"relu\"),\n",
        "    keras.layers.Dense(10, activation=\"softmax\")\n",
        "])"
      ],
      "metadata": {
        "id": "6Qi-xEKmOoen"
      },
      "execution_count": 16,
      "outputs": []
    },
    {
      "cell_type": "code",
      "source": [
        "model.layers"
      ],
      "metadata": {
        "colab": {
          "base_uri": "https://localhost:8080/"
        },
        "id": "wOgC5qqFPLna",
        "outputId": "1e7bd091-5b9e-4ab3-f6a7-f95fcb63d7c1"
      },
      "execution_count": 17,
      "outputs": [
        {
          "output_type": "execute_result",
          "data": {
            "text/plain": [
              "[<keras.layers.reshaping.flatten.Flatten at 0x7c0fefb31900>,\n",
              " <keras.layers.core.dense.Dense at 0x7c0fef976a70>,\n",
              " <keras.layers.core.dense.Dense at 0x7c0fef9776a0>,\n",
              " <keras.layers.core.dense.Dense at 0x7c0fef977130>]"
            ]
          },
          "metadata": {},
          "execution_count": 17
        }
      ]
    },
    {
      "cell_type": "code",
      "source": [
        "#2.3\n",
        "model.summary()"
      ],
      "metadata": {
        "colab": {
          "base_uri": "https://localhost:8080/"
        },
        "id": "B-NftFCWPNiF",
        "outputId": "700fb0b8-a60a-41fa-bcf7-ca454a2928c2"
      },
      "execution_count": 18,
      "outputs": [
        {
          "output_type": "stream",
          "name": "stdout",
          "text": [
            "Model: \"sequential_1\"\n",
            "_________________________________________________________________\n",
            " Layer (type)                Output Shape              Param #   \n",
            "=================================================================\n",
            " flatten_1 (Flatten)         (None, 784)               0         \n",
            "                                                                 \n",
            " dense_4 (Dense)             (None, 300)               235500    \n",
            "                                                                 \n",
            " dense_5 (Dense)             (None, 100)               30100     \n",
            "                                                                 \n",
            " dense_6 (Dense)             (None, 10)                1010      \n",
            "                                                                 \n",
            "=================================================================\n",
            "Total params: 266,610\n",
            "Trainable params: 266,610\n",
            "Non-trainable params: 0\n",
            "_________________________________________________________________\n"
          ]
        }
      ]
    },
    {
      "cell_type": "code",
      "source": [
        "# Save image of model architecture\n",
        "keras.utils.plot_model(model, \"my_mnist_model.png\", show_shapes=True)"
      ],
      "metadata": {
        "colab": {
          "base_uri": "https://localhost:8080/",
          "height": 533
        },
        "id": "33WAWM-RPUl6",
        "outputId": "5e1e21ab-146d-49c8-cd4a-b09b4258282b"
      },
      "execution_count": 19,
      "outputs": [
        {
          "output_type": "execute_result",
          "data": {
            "image/png": "[encoded data removed]",
            "text/plain": [
              "<IPython.core.display.Image object>"
            ]
          },
          "metadata": {},
          "execution_count": 19
        }
      ]
    },
    {
      "cell_type": "code",
      "source": [
        "from IPython.display import SVG\n",
        "SVG(keras.utils.model_to_dot(model, show_shapes=True).create(prog=\"dot\", format=\"svg\"))"
      ],
      "metadata": {
        "colab": {
          "base_uri": "https://localhost:8080/",
          "height": 709
        },
        "id": "cRfzarNSPtXH",
        "outputId": "ae4e39e4-2934-4a7c-c52f-b5782845ce6b"
      },
      "execution_count": 20,
      "outputs": [
        {
          "output_type": "execute_result",
          "data": {
            "text/plain": [
              "<IPython.core.display.SVG object>"
            ],
            "image/svg+xml": "<svg xmlns=\"http://www.w3.org/2000/svg\" xmlns:xlink=\"http://www.w3.org/1999/xlink\" width=\"357pt\" height=\"516pt\" viewBox=\"0.00 0.00 268.00 387.00\">\n<g id=\"graph0\" class=\"graph\" transform=\"scale(0.75 0.75) rotate(0) translate(4 383)\">\n<title>G</title>\n<polygon fill=\"white\" stroke=\"transparent\" points=\"-4,4 -4,-383 264,-383 264,4 -4,4\"/>\n<!-- 136407886030080 -->\n<g id=\"node1\" class=\"node\">\n<title>136407886030080</title>\n<polygon fill=\"none\" stroke=\"black\" points=\"0,-332.5 0,-378.5 260,-378.5 260,-332.5 0,-332.5\"/>\n<text text-anchor=\"middle\" x=\"49.5\" y=\"-363.3\" font-family=\"Times,serif\" font-size=\"14.00\">flatten_1_input</text>\n<polyline fill=\"none\" stroke=\"black\" points=\"0,-355.5 99,-355.5 \"/>\n<text text-anchor=\"middle\" x=\"49.5\" y=\"-340.3\" font-family=\"Times,serif\" font-size=\"14.00\">InputLayer</text>\n<polyline fill=\"none\" stroke=\"black\" points=\"99,-332.5 99,-378.5 \"/>\n<text text-anchor=\"middle\" x=\"126.5\" y=\"-363.3\" font-family=\"Times,serif\" font-size=\"14.00\">input:</text>\n<polyline fill=\"none\" stroke=\"black\" points=\"99,-355.5 154,-355.5 \"/>\n<text text-anchor=\"middle\" x=\"126.5\" y=\"-340.3\" font-family=\"Times,serif\" font-size=\"14.00\">output:</text>\n<polyline fill=\"none\" stroke=\"black\" points=\"154,-332.5 154,-378.5 \"/>\n<text text-anchor=\"middle\" x=\"207\" y=\"-363.3\" font-family=\"Times,serif\" font-size=\"14.00\">[(None, 28, 28)]</text>\n<polyline fill=\"none\" stroke=\"black\" points=\"154,-355.5 260,-355.5 \"/>\n<text text-anchor=\"middle\" x=\"207\" y=\"-340.3\" font-family=\"Times,serif\" font-size=\"14.00\">[(None, 28, 28)]</text>\n</g>\n<!-- 136407887845632 -->\n<g id=\"node2\" class=\"node\">\n<title>136407887845632</title>\n<polygon fill=\"none\" stroke=\"black\" points=\"21.5,-249.5 21.5,-295.5 238.5,-295.5 238.5,-249.5 21.5,-249.5\"/>\n<text text-anchor=\"middle\" x=\"54\" y=\"-280.3\" font-family=\"Times,serif\" font-size=\"14.00\">flatten_1</text>\n<polyline fill=\"none\" stroke=\"black\" points=\"21.5,-272.5 86.5,-272.5 \"/>\n<text text-anchor=\"middle\" x=\"54\" y=\"-257.3\" font-family=\"Times,serif\" font-size=\"14.00\">Flatten</text>\n<polyline fill=\"none\" stroke=\"black\" points=\"86.5,-249.5 86.5,-295.5 \"/>\n<text text-anchor=\"middle\" x=\"114\" y=\"-280.3\" font-family=\"Times,serif\" font-size=\"14.00\">input:</text>\n<polyline fill=\"none\" stroke=\"black\" points=\"86.5,-272.5 141.5,-272.5 \"/>\n<text text-anchor=\"middle\" x=\"114\" y=\"-257.3\" font-family=\"Times,serif\" font-size=\"14.00\">output:</text>\n<polyline fill=\"none\" stroke=\"black\" points=\"141.5,-249.5 141.5,-295.5 \"/>\n<text text-anchor=\"middle\" x=\"190\" y=\"-280.3\" font-family=\"Times,serif\" font-size=\"14.00\">(None, 28, 28)</text>\n<polyline fill=\"none\" stroke=\"black\" points=\"141.5,-272.5 238.5,-272.5 \"/>\n<text text-anchor=\"middle\" x=\"190\" y=\"-257.3\" font-family=\"Times,serif\" font-size=\"14.00\">(None, 784)</text>\n</g>\n<!-- 136407886030080&#45;&gt;136407887845632 -->\n<g id=\"edge1\" class=\"edge\">\n<title>136407886030080-&gt;136407887845632</title>\n<path fill=\"none\" stroke=\"black\" d=\"M130,-332.37C130,-324.15 130,-314.66 130,-305.73\"/>\n<polygon fill=\"black\" stroke=\"black\" points=\"133.5,-305.61 130,-295.61 126.5,-305.61 133.5,-305.61\"/>\n</g>\n<!-- 136407886031472 -->\n<g id=\"node3\" class=\"node\">\n<title>136407886031472</title>\n<polygon fill=\"none\" stroke=\"black\" points=\"30.5,-166.5 30.5,-212.5 229.5,-212.5 229.5,-166.5 30.5,-166.5\"/>\n<text text-anchor=\"middle\" x=\"61\" y=\"-197.3\" font-family=\"Times,serif\" font-size=\"14.00\">dense_4</text>\n<polyline fill=\"none\" stroke=\"black\" points=\"30.5,-189.5 91.5,-189.5 \"/>\n<text text-anchor=\"middle\" x=\"61\" y=\"-174.3\" font-family=\"Times,serif\" font-size=\"14.00\">Dense</text>\n<polyline fill=\"none\" stroke=\"black\" points=\"91.5,-166.5 91.5,-212.5 \"/>\n<text text-anchor=\"middle\" x=\"119\" y=\"-197.3\" font-family=\"Times,serif\" font-size=\"14.00\">input:</text>\n<polyline fill=\"none\" stroke=\"black\" points=\"91.5,-189.5 146.5,-189.5 \"/>\n<text text-anchor=\"middle\" x=\"119\" y=\"-174.3\" font-family=\"Times,serif\" font-size=\"14.00\">output:</text>\n<polyline fill=\"none\" stroke=\"black\" points=\"146.5,-166.5 146.5,-212.5 \"/>\n<text text-anchor=\"middle\" x=\"188\" y=\"-197.3\" font-family=\"Times,serif\" font-size=\"14.00\">(None, 784)</text>\n<polyline fill=\"none\" stroke=\"black\" points=\"146.5,-189.5 229.5,-189.5 \"/>\n<text text-anchor=\"middle\" x=\"188\" y=\"-174.3\" font-family=\"Times,serif\" font-size=\"14.00\">(None, 300)</text>\n</g>\n<!-- 136407887845632&#45;&gt;136407886031472 -->\n<g id=\"edge2\" class=\"edge\">\n<title>136407887845632-&gt;136407886031472</title>\n<path fill=\"none\" stroke=\"black\" d=\"M130,-249.37C130,-241.15 130,-231.66 130,-222.73\"/>\n<polygon fill=\"black\" stroke=\"black\" points=\"133.5,-222.61 130,-212.61 126.5,-222.61 133.5,-222.61\"/>\n</g>\n<!-- 136407886034592 -->\n<g id=\"node4\" class=\"node\">\n<title>136407886034592</title>\n<polygon fill=\"none\" stroke=\"black\" points=\"30.5,-83.5 30.5,-129.5 229.5,-129.5 229.5,-83.5 30.5,-83.5\"/>\n<text text-anchor=\"middle\" x=\"61\" y=\"-114.3\" font-family=\"Times,serif\" font-size=\"14.00\">dense_5</text>\n<polyline fill=\"none\" stroke=\"black\" points=\"30.5,-106.5 91.5,-106.5 \"/>\n<text text-anchor=\"middle\" x=\"61\" y=\"-91.3\" font-family=\"Times,serif\" font-size=\"14.00\">Dense</text>\n<polyline fill=\"none\" stroke=\"black\" points=\"91.5,-83.5 91.5,-129.5 \"/>\n<text text-anchor=\"middle\" x=\"119\" y=\"-114.3\" font-family=\"Times,serif\" font-size=\"14.00\">input:</text>\n<polyline fill=\"none\" stroke=\"black\" points=\"91.5,-106.5 146.5,-106.5 \"/>\n<text text-anchor=\"middle\" x=\"119\" y=\"-91.3\" font-family=\"Times,serif\" font-size=\"14.00\">output:</text>\n<polyline fill=\"none\" stroke=\"black\" points=\"146.5,-83.5 146.5,-129.5 \"/>\n<text text-anchor=\"middle\" x=\"188\" y=\"-114.3\" font-family=\"Times,serif\" font-size=\"14.00\">(None, 300)</text>\n<polyline fill=\"none\" stroke=\"black\" points=\"146.5,-106.5 229.5,-106.5 \"/>\n<text text-anchor=\"middle\" x=\"188\" y=\"-91.3\" font-family=\"Times,serif\" font-size=\"14.00\">(None, 100)</text>\n</g>\n<!-- 136407886031472&#45;&gt;136407886034592 -->\n<g id=\"edge3\" class=\"edge\">\n<title>136407886031472-&gt;136407886034592</title>\n<path fill=\"none\" stroke=\"black\" d=\"M130,-166.37C130,-158.15 130,-148.66 130,-139.73\"/>\n<polygon fill=\"black\" stroke=\"black\" points=\"133.5,-139.61 130,-129.61 126.5,-139.61 133.5,-139.61\"/>\n</g>\n<!-- 136407886033200 -->\n<g id=\"node5\" class=\"node\">\n<title>136407886033200</title>\n<polygon fill=\"none\" stroke=\"black\" points=\"30.5,-0.5 30.5,-46.5 229.5,-46.5 229.5,-0.5 30.5,-0.5\"/>\n<text text-anchor=\"middle\" x=\"61\" y=\"-31.3\" font-family=\"Times,serif\" font-size=\"14.00\">dense_6</text>\n<polyline fill=\"none\" stroke=\"black\" points=\"30.5,-23.5 91.5,-23.5 \"/>\n<text text-anchor=\"middle\" x=\"61\" y=\"-8.3\" font-family=\"Times,serif\" font-size=\"14.00\">Dense</text>\n<polyline fill=\"none\" stroke=\"black\" points=\"91.5,-0.5 91.5,-46.5 \"/>\n<text text-anchor=\"middle\" x=\"119\" y=\"-31.3\" font-family=\"Times,serif\" font-size=\"14.00\">input:</text>\n<polyline fill=\"none\" stroke=\"black\" points=\"91.5,-23.5 146.5,-23.5 \"/>\n<text text-anchor=\"middle\" x=\"119\" y=\"-8.3\" font-family=\"Times,serif\" font-size=\"14.00\">output:</text>\n<polyline fill=\"none\" stroke=\"black\" points=\"146.5,-0.5 146.5,-46.5 \"/>\n<text text-anchor=\"middle\" x=\"188\" y=\"-31.3\" font-family=\"Times,serif\" font-size=\"14.00\">(None, 100)</text>\n<polyline fill=\"none\" stroke=\"black\" points=\"146.5,-23.5 229.5,-23.5 \"/>\n<text text-anchor=\"middle\" x=\"188\" y=\"-8.3\" font-family=\"Times,serif\" font-size=\"14.00\">(None, 10)</text>\n</g>\n<!-- 136407886034592&#45;&gt;136407886033200 -->\n<g id=\"edge4\" class=\"edge\">\n<title>136407886034592-&gt;136407886033200</title>\n<path fill=\"none\" stroke=\"black\" d=\"M130,-83.37C130,-75.15 130,-65.66 130,-56.73\"/>\n<polygon fill=\"black\" stroke=\"black\" points=\"133.5,-56.61 130,-46.61 126.5,-56.61 133.5,-56.61\"/>\n</g>\n</g>\n</svg>"
          },
          "metadata": {},
          "execution_count": 20
        }
      ]
    },
    {
      "cell_type": "code",
      "source": [
        "#2.4\n",
        "model.compile(loss=\"sparse_categorical_crossentropy\",\n",
        "              optimizer=keras.optimizers.SGD(lr=1e-3),\n",
        "              metrics=[\"accuracy\"])"
      ],
      "metadata": {
        "colab": {
          "base_uri": "https://localhost:8080/"
        },
        "id": "D0NXJkooP57d",
        "outputId": "0bb1ee9b-7097-4317-ad02-4b95daca4ef0"
      },
      "execution_count": 21,
      "outputs": [
        {
          "output_type": "stream",
          "name": "stderr",
          "text": [
            "WARNING:absl:`lr` is deprecated in Keras optimizer, please use `learning_rate` or use the legacy optimizer, e.g.,tf.keras.optimizers.legacy.SGD.\n"
          ]
        }
      ]
    },
    {
      "cell_type": "code",
      "source": [
        "#2.5\n",
        "history = model.fit(X_train, y_train, epochs=10,\n",
        "                    validation_data=(X_valid, y_valid))"
      ],
      "metadata": {
        "colab": {
          "base_uri": "https://localhost:8080/"
        },
        "id": "BU0jnR-eQtNx",
        "outputId": "a23ed38e-ad93-428a-ac9b-2477d021fc55"
      },
      "execution_count": 22,
      "outputs": [
        {
          "output_type": "stream",
          "name": "stdout",
          "text": [
            "Epoch 1/10\n",
            "1719/1719 [==============================] - 11s 5ms/step - loss: 551872751728590848.0000 - accuracy: 0.0985 - val_loss: 2.3411 - val_accuracy: 0.0986\n",
            "Epoch 2/10\n",
            "1719/1719 [==============================] - 8s 4ms/step - loss: 2.3027 - accuracy: 0.0998 - val_loss: 2.3412 - val_accuracy: 0.0914\n",
            "Epoch 3/10\n",
            "1719/1719 [==============================] - 8s 5ms/step - loss: 2.3027 - accuracy: 0.0989 - val_loss: 2.3412 - val_accuracy: 0.0976\n",
            "Epoch 4/10\n",
            "1719/1719 [==============================] - 9s 5ms/step - loss: 2.3027 - accuracy: 0.0989 - val_loss: 2.3412 - val_accuracy: 0.0914\n",
            "Epoch 5/10\n",
            "1719/1719 [==============================] - 7s 4ms/step - loss: 2.3027 - accuracy: 0.0975 - val_loss: 2.3414 - val_accuracy: 0.0914\n",
            "Epoch 6/10\n",
            "1719/1719 [==============================] - 8s 5ms/step - loss: 2.3027 - accuracy: 0.0997 - val_loss: 2.3413 - val_accuracy: 0.0980\n",
            "Epoch 7/10\n",
            "1719/1719 [==============================] - 8s 4ms/step - loss: 2.3027 - accuracy: 0.0992 - val_loss: 2.3414 - val_accuracy: 0.0914\n",
            "Epoch 8/10\n",
            "1719/1719 [==============================] - 8s 5ms/step - loss: 2.3027 - accuracy: 0.0990 - val_loss: 2.3412 - val_accuracy: 0.1012\n",
            "Epoch 9/10\n",
            "1719/1719 [==============================] - 9s 5ms/step - loss: 2.3027 - accuracy: 0.0982 - val_loss: 2.3414 - val_accuracy: 0.0914\n",
            "Epoch 10/10\n",
            "1719/1719 [==============================] - 8s 4ms/step - loss: 2.3027 - accuracy: 0.1003 - val_loss: 2.3412 - val_accuracy: 0.0984\n"
          ]
        }
      ]
    },
    {
      "cell_type": "code",
      "source": [
        "# 2.6 Plot history\n",
        "pd.DataFrame(history.history).plot()\n",
        "figsize=(8, 5)\n",
        "plt.grid(True)\n",
        "plt.gca().set_ylim(0, 1)"
      ],
      "metadata": {
        "colab": {
          "base_uri": "https://localhost:8080/",
          "height": 452
        },
        "id": "OvzdD8rybs6I",
        "outputId": "aac18c72-230d-4645-d284-24a1802f0bcb"
      },
      "execution_count": 23,
      "outputs": [
        {
          "output_type": "execute_result",
          "data": {
            "text/plain": [
              "(0.0, 1.0)"
            ]
          },
          "metadata": {},
          "execution_count": 23
        },
        {
          "output_type": "display_data",
          "data": {
            "text/plain": [
              "<Figure size 640x480 with 1 Axes>"
            ],
            "image/png": "[encoded data removed]"
          },
          "metadata": {}
        }
      ]
    },
    {
      "cell_type": "code",
      "source": [
        "# 2.7\n",
        "model.fit(X_train, y_train, epochs=10,\n",
        "                    validation_data=(X_valid, y_valid))"
      ],
      "metadata": {
        "colab": {
          "base_uri": "https://localhost:8080/"
        },
        "id": "tXq7vguAcO4C",
        "outputId": "5b24445f-1514-4d2f-8f84-82b89e8f55b2"
      },
      "execution_count": 24,
      "outputs": [
        {
          "output_type": "stream",
          "name": "stdout",
          "text": [
            "Epoch 1/10\n",
            "1719/1719 [==============================] - 9s 5ms/step - loss: 2.3027 - accuracy: 0.0994 - val_loss: 2.3412 - val_accuracy: 0.0914\n",
            "Epoch 2/10\n",
            "1719/1719 [==============================] - 8s 5ms/step - loss: 2.3027 - accuracy: 0.0990 - val_loss: 2.3415 - val_accuracy: 0.0914\n",
            "Epoch 3/10\n",
            "1719/1719 [==============================] - 7s 4ms/step - loss: 2.3027 - accuracy: 0.1002 - val_loss: 2.3414 - val_accuracy: 0.0914\n",
            "Epoch 4/10\n",
            "1719/1719 [==============================] - 10s 6ms/step - loss: 2.3027 - accuracy: 0.0988 - val_loss: 2.3413 - val_accuracy: 0.0914\n",
            "Epoch 5/10\n",
            "1719/1719 [==============================] - 8s 5ms/step - loss: 2.3027 - accuracy: 0.1002 - val_loss: 2.3412 - val_accuracy: 0.0976\n",
            "Epoch 6/10\n",
            "1719/1719 [==============================] - 8s 5ms/step - loss: 2.3027 - accuracy: 0.0989 - val_loss: 2.3413 - val_accuracy: 0.0980\n",
            "Epoch 7/10\n",
            "1719/1719 [==============================] - 8s 5ms/step - loss: 2.3027 - accuracy: 0.1001 - val_loss: 2.3412 - val_accuracy: 0.0914\n",
            "Epoch 8/10\n",
            "1719/1719 [==============================] - 8s 4ms/step - loss: 2.3027 - accuracy: 0.0999 - val_loss: 2.3412 - val_accuracy: 0.0984\n",
            "Epoch 9/10\n",
            "1719/1719 [==============================] - 8s 5ms/step - loss: 2.3027 - accuracy: 0.0995 - val_loss: 2.3412 - val_accuracy: 0.0914\n",
            "Epoch 10/10\n",
            "1719/1719 [==============================] - 8s 5ms/step - loss: 2.3027 - accuracy: 0.0985 - val_loss: 2.3412 - val_accuracy: 0.0914\n"
          ]
        },
        {
          "output_type": "execute_result",
          "data": {
            "text/plain": [
              "<keras.callbacks.History at 0x7c0ff6281570>"
            ]
          },
          "metadata": {},
          "execution_count": 24
        }
      ]
    },
    {
      "cell_type": "code",
      "source": [
        "# 2.8\n",
        "model.evaluate(X_test, y_test)"
      ],
      "metadata": {
        "colab": {
          "base_uri": "https://localhost:8080/"
        },
        "id": "-eA3xDyIcvSO",
        "outputId": "66cef724-3455-47f5-a13f-1267a80ac0eb"
      },
      "execution_count": 25,
      "outputs": [
        {
          "output_type": "stream",
          "name": "stdout",
          "text": [
            "313/313 [==============================] - 1s 2ms/step - loss: 2.3051 - accuracy: 0.1000\n"
          ]
        },
        {
          "output_type": "execute_result",
          "data": {
            "text/plain": [
              "[2.3051018714904785, 0.10000000149011612]"
            ]
          },
          "metadata": {},
          "execution_count": 25
        }
      ]
    },
    {
      "cell_type": "code",
      "source": [
        "# 2.9 Define X_new as the first 10 instances of the test set\n",
        "n_new = 10\n",
        "X_new = X_test[:n_new]\n",
        "y_proba = model.predict(X_new)\n",
        "y_proba.round(2)"
      ],
      "metadata": {
        "colab": {
          "base_uri": "https://localhost:8080/"
        },
        "id": "4-VzTNwOuUp4",
        "outputId": "4ba381f7-5198-4698-dfba-23577c6920d2"
      },
      "execution_count": 26,
      "outputs": [
        {
          "output_type": "stream",
          "name": "stdout",
          "text": [
            "1/1 [==============================] - 0s 107ms/step\n"
          ]
        },
        {
          "output_type": "execute_result",
          "data": {
            "text/plain": [
              "array([[0.1, 0.1, 0.1, 0.1, 0.1, 0.1, 0.1, 0.1, 0.1, 0.1],\n",
              "       [0.1, 0.1, 0.1, 0.1, 0.1, 0.1, 0.1, 0.1, 0.1, 0.1],\n",
              "       [0.1, 0.1, 0.1, 0.1, 0.1, 0.1, 0.1, 0.1, 0.1, 0.1],\n",
              "       [0.1, 0.1, 0.1, 0.1, 0.1, 0.1, 0.1, 0.1, 0.1, 0.1],\n",
              "       [0.1, 0.1, 0.1, 0.1, 0.1, 0.1, 0.1, 0.1, 0.1, 0.1],\n",
              "       [0.1, 0.1, 0.1, 0.1, 0.1, 0.1, 0.1, 0.1, 0.1, 0.1],\n",
              "       [0.1, 0.1, 0.1, 0.1, 0.1, 0.1, 0.1, 0.1, 0.1, 0.1],\n",
              "       [0.1, 0.1, 0.1, 0.1, 0.1, 0.1, 0.1, 0.1, 0.1, 0.1],\n",
              "       [0.1, 0.1, 0.1, 0.1, 0.1, 0.1, 0.1, 0.1, 0.1, 0.1],\n",
              "       [0.1, 0.1, 0.1, 0.1, 0.1, 0.1, 0.1, 0.1, 0.1, 0.1]], dtype=float32)"
            ]
          },
          "metadata": {},
          "execution_count": 26
        }
      ]
    },
    {
      "cell_type": "code",
      "source": [
        "# 2.10\n",
        "y_pred = y_proba.argmax(axis=1)\n",
        "y_pred"
      ],
      "metadata": {
        "colab": {
          "base_uri": "https://localhost:8080/"
        },
        "id": "qWGZvPwjujz2",
        "outputId": "b2602047-262a-4139-b245-7d62ff7252d4"
      },
      "execution_count": 27,
      "outputs": [
        {
          "output_type": "execute_result",
          "data": {
            "text/plain": [
              "array([0, 0, 0, 0, 0, 0, 0, 0, 0, 0])"
            ]
          },
          "metadata": {},
          "execution_count": 27
        }
      ]
    },
    {
      "cell_type": "code",
      "source": [
        "# 2.11\n",
        "y_proba.max(axis=1).round(2)"
      ],
      "metadata": {
        "colab": {
          "base_uri": "https://localhost:8080/"
        },
        "id": "3ryX1lITu0AD",
        "outputId": "dbb1fbbf-5605-46cc-e768-4977c580c122"
      },
      "execution_count": 28,
      "outputs": [
        {
          "output_type": "execute_result",
          "data": {
            "text/plain": [
              "array([0.1, 0.1, 0.1, 0.1, 0.1, 0.1, 0.1, 0.1, 0.1, 0.1], dtype=float32)"
            ]
          },
          "metadata": {},
          "execution_count": 28
        }
      ]
    },
    {
      "cell_type": "code",
      "source": [
        "# 2.12\n",
        "k = 3\n",
        "top_k = np.argsort(-y_proba, axis=1)[:, :k]\n",
        "top_k"
      ],
      "metadata": {
        "colab": {
          "base_uri": "https://localhost:8080/"
        },
        "id": "FAFJmYYyu2jj",
        "outputId": "867d937d-31ee-4a70-d730-e47a2c6a3f15"
      },
      "execution_count": 29,
      "outputs": [
        {
          "output_type": "execute_result",
          "data": {
            "text/plain": [
              "array([[0, 4, 6],\n",
              "       [0, 4, 6],\n",
              "       [0, 4, 6],\n",
              "       [0, 4, 6],\n",
              "       [0, 4, 6],\n",
              "       [0, 4, 6],\n",
              "       [0, 4, 6],\n",
              "       [0, 4, 6],\n",
              "       [0, 4, 6],\n",
              "       [0, 4, 6]])"
            ]
          },
          "metadata": {},
          "execution_count": 29
        }
      ]
    },
    {
      "cell_type": "code",
      "source": [
        "row_indices = np.tile(np.arange(len(top_k)), [k, 1]).T\n",
        "y_proba[row_indices, top_k].round(2)"
      ],
      "metadata": {
        "colab": {
          "base_uri": "https://localhost:8080/"
        },
        "id": "7vIvR-vevAE_",
        "outputId": "9f0a2148-dd35-416f-e1c8-6de8b1224a55"
      },
      "execution_count": 30,
      "outputs": [
        {
          "output_type": "execute_result",
          "data": {
            "text/plain": [
              "array([[0.1, 0.1, 0.1],\n",
              "       [0.1, 0.1, 0.1],\n",
              "       [0.1, 0.1, 0.1],\n",
              "       [0.1, 0.1, 0.1],\n",
              "       [0.1, 0.1, 0.1],\n",
              "       [0.1, 0.1, 0.1],\n",
              "       [0.1, 0.1, 0.1],\n",
              "       [0.1, 0.1, 0.1],\n",
              "       [0.1, 0.1, 0.1],\n",
              "       [0.1, 0.1, 0.1]], dtype=float32)"
            ]
          },
          "metadata": {},
          "execution_count": 30
        }
      ]
    },
    {
      "cell_type": "markdown",
      "source": [
        "#### **3. Scaling features**"
      ],
      "metadata": {
        "id": "Cj-vpaR2wMIf"
      }
    },
    {
      "cell_type": "code",
      "source": [
        "pixel_means = X_train.mean(axis = 0)\n",
        "pixel_stds = X_train.std(axis = 0)\n",
        "X_train_scaled = (X_train - pixel_means) / pixel_stds\n",
        "X_valid_scaled = (X_valid - pixel_means) / pixel_stds\n",
        "X_test_scaled = (X_test - pixel_means) / pixel_stds"
      ],
      "metadata": {
        "id": "K5-pXjqKweOp"
      },
      "execution_count": 31,
      "outputs": []
    },
    {
      "cell_type": "code",
      "source": [
        "from sklearn.preprocessing import StandardScaler\n",
        "\n",
        "scaler = StandardScaler()\n",
        "X_train_scaled = scaler.fit_transform(X_train.astype(np.float32).reshape(-1, 28 * 28)).reshape(-1, 28, 28)\n",
        "X_valid_scaled = scaler.transform(X_valid.astype(np.float32).reshape(-1, 28 * 28)).reshape(-1, 28, 28)\n",
        "X_test_scaled = scaler.transform(X_test.astype(np.float32).reshape(-1, 28 * 28)).reshape(-1, 28, 28)"
      ],
      "metadata": {
        "id": "KIM3XKSUwiAP"
      },
      "execution_count": 32,
      "outputs": []
    },
    {
      "cell_type": "code",
      "source": [
        "model = keras.models.Sequential([\n",
        "    keras.layers.Flatten(input_shape=[28, 28]),\n",
        "    keras.layers.Dense(300, activation=\"relu\"),\n",
        "    keras.layers.Dense(100, activation=\"relu\"),\n",
        "    keras.layers.Dense(10, activation=\"softmax\")\n",
        "])\n",
        "model.compile(loss=\"sparse_categorical_crossentropy\",\n",
        "              optimizer=keras.optimizers.SGD(1e-3), metrics=[\"accuracy\"])\n",
        "history = model.fit(X_train_scaled, y_train, epochs=20,\n",
        "                    validation_data=(X_valid_scaled, y_valid))"
      ],
      "metadata": {
        "colab": {
          "base_uri": "https://localhost:8080/"
        },
        "id": "iSWzMAo0wmuO",
        "outputId": "3072affc-f0b8-471c-baa2-410e7e977206"
      },
      "execution_count": 33,
      "outputs": [
        {
          "output_type": "stream",
          "name": "stdout",
          "text": [
            "Epoch 1/20\n",
            "1719/1719 [==============================] - 10s 5ms/step - loss: 0.9433 - accuracy: 0.6876 - val_loss: 0.6351 - val_accuracy: 0.7818\n",
            "Epoch 2/20\n",
            "1719/1719 [==============================] - 10s 6ms/step - loss: 0.5834 - accuracy: 0.7967 - val_loss: 0.5331 - val_accuracy: 0.8202\n",
            "Epoch 3/20\n",
            "1719/1719 [==============================] - 11s 7ms/step - loss: 0.5091 - accuracy: 0.8200 - val_loss: 0.4869 - val_accuracy: 0.8396\n",
            "Epoch 4/20\n",
            "1719/1719 [==============================] - 7s 4ms/step - loss: 0.4685 - accuracy: 0.8340 - val_loss: 0.4608 - val_accuracy: 0.8486\n",
            "Epoch 5/20\n",
            "1719/1719 [==============================] - 10s 6ms/step - loss: 0.4416 - accuracy: 0.8433 - val_loss: 0.4411 - val_accuracy: 0.8566\n",
            "Epoch 6/20\n",
            "1719/1719 [==============================] - 10s 6ms/step - loss: 0.4220 - accuracy: 0.8495 - val_loss: 0.4284 - val_accuracy: 0.8584\n",
            "Epoch 7/20\n",
            "1719/1719 [==============================] - 7s 4ms/step - loss: 0.4065 - accuracy: 0.8550 - val_loss: 0.4182 - val_accuracy: 0.8618\n",
            "Epoch 8/20\n",
            "1719/1719 [==============================] - 11s 6ms/step - loss: 0.3938 - accuracy: 0.8592 - val_loss: 0.4101 - val_accuracy: 0.8618\n",
            "Epoch 9/20\n",
            "1719/1719 [==============================] - 8s 5ms/step - loss: 0.3835 - accuracy: 0.8637 - val_loss: 0.4024 - val_accuracy: 0.8656\n",
            "Epoch 10/20\n",
            "1719/1719 [==============================] - 7s 4ms/step - loss: 0.3741 - accuracy: 0.8674 - val_loss: 0.3979 - val_accuracy: 0.8662\n",
            "Epoch 11/20\n",
            "1719/1719 [==============================] - 13s 8ms/step - loss: 0.3660 - accuracy: 0.8695 - val_loss: 0.3910 - val_accuracy: 0.8696\n",
            "Epoch 12/20\n",
            "1719/1719 [==============================] - 13s 8ms/step - loss: 0.3587 - accuracy: 0.8726 - val_loss: 0.3852 - val_accuracy: 0.8692\n",
            "Epoch 13/20\n",
            "1719/1719 [==============================] - 15s 9ms/step - loss: 0.3520 - accuracy: 0.8744 - val_loss: 0.3820 - val_accuracy: 0.8720\n",
            "Epoch 14/20\n",
            "1719/1719 [==============================] - 8s 5ms/step - loss: 0.3459 - accuracy: 0.8768 - val_loss: 0.3795 - val_accuracy: 0.8728\n",
            "Epoch 15/20\n",
            "1719/1719 [==============================] - 7s 4ms/step - loss: 0.3402 - accuracy: 0.8786 - val_loss: 0.3759 - val_accuracy: 0.8722\n",
            "Epoch 16/20\n",
            "1719/1719 [==============================] - 10s 6ms/step - loss: 0.3348 - accuracy: 0.8809 - val_loss: 0.3726 - val_accuracy: 0.8746\n",
            "Epoch 17/20\n",
            "1719/1719 [==============================] - 9s 5ms/step - loss: 0.3300 - accuracy: 0.8824 - val_loss: 0.3708 - val_accuracy: 0.8756\n",
            "Epoch 18/20\n",
            "1719/1719 [==============================] - 8s 5ms/step - loss: 0.3254 - accuracy: 0.8845 - val_loss: 0.3689 - val_accuracy: 0.8746\n",
            "Epoch 19/20\n",
            "1719/1719 [==============================] - 12s 7ms/step - loss: 0.3210 - accuracy: 0.8865 - val_loss: 0.3646 - val_accuracy: 0.8746\n",
            "Epoch 20/20\n",
            "1719/1719 [==============================] - 9s 5ms/step - loss: 0.3167 - accuracy: 0.8878 - val_loss: 0.3625 - val_accuracy: 0.8786\n"
          ]
        }
      ]
    },
    {
      "cell_type": "code",
      "source": [
        "model.evaluate(X_test_scaled, y_test)"
      ],
      "metadata": {
        "colab": {
          "base_uri": "https://localhost:8080/"
        },
        "id": "1rKIRWaxwwPO",
        "outputId": "e4d1fda4-9510-4ef8-aacf-ca125390d7b8"
      },
      "execution_count": 34,
      "outputs": [
        {
          "output_type": "stream",
          "name": "stdout",
          "text": [
            "313/313 [==============================] - 1s 2ms/step - loss: 0.3814 - accuracy: 0.8640\n"
          ]
        },
        {
          "output_type": "execute_result",
          "data": {
            "text/plain": [
              "[0.3814321756362915, 0.8640000224113464]"
            ]
          },
          "metadata": {},
          "execution_count": 34
        }
      ]
    },
    {
      "cell_type": "markdown",
      "source": [
        "#### **4. Use Callbacks**"
      ],
      "metadata": {
        "id": "YCvD_pBhxCgt"
      }
    },
    {
      "cell_type": "code",
      "source": [
        "model = keras.models.Sequential([\n",
        "    keras.layers.Flatten(input_shape=[28, 28]),\n",
        "    keras.layers.Dense(300, activation=\"relu\"),\n",
        "    keras.layers.Dense(100, activation=\"relu\"),\n",
        "    keras.layers.Dense(10, activation=\"softmax\")\n",
        "])\n",
        "model.compile(loss=\"sparse_categorical_crossentropy\",\n",
        "              optimizer=keras.optimizers.SGD(1e-3), metrics=[\"accuracy\"])"
      ],
      "metadata": {
        "id": "OOpUpPxiw8ks"
      },
      "execution_count": 36,
      "outputs": []
    },
    {
      "cell_type": "code",
      "source": [
        "root_logdir = os.path.join(os.curdir, \"my_logs\")"
      ],
      "metadata": {
        "id": "cBYoBmB8xckl"
      },
      "execution_count": 38,
      "outputs": []
    },
    {
      "cell_type": "code",
      "source": [
        "logdir = os.path.join(root_logdir, \"run_{}\".format(time.time()))\n",
        "\n",
        "callbacks = [\n",
        "    keras.callbacks.TensorBoard(logdir),\n",
        "    keras.callbacks.EarlyStopping(patience=5),\n",
        "    keras.callbacks.ModelCheckpoint(\"my_mnist_model.h5\", save_best_only=True),\n",
        "]\n",
        "history = model.fit(X_train_scaled, y_train, epochs=50,\n",
        "                    validation_data=(X_valid_scaled, y_valid),\n",
        "                    callbacks=callbacks)"
      ],
      "metadata": {
        "colab": {
          "base_uri": "https://localhost:8080/"
        },
        "id": "jd5NT7rYxVsP",
        "outputId": "16bad1e2-8823-4409-b41c-54c34b6aa811"
      },
      "execution_count": 39,
      "outputs": [
        {
          "output_type": "stream",
          "name": "stdout",
          "text": [
            "Epoch 1/50\n",
            "1719/1719 [==============================] - 18s 9ms/step - loss: 0.9333 - accuracy: 0.7002 - val_loss: 0.6255 - val_accuracy: 0.7896\n",
            "Epoch 2/50\n",
            "1719/1719 [==============================] - 12s 7ms/step - loss: 0.5763 - accuracy: 0.8011 - val_loss: 0.5215 - val_accuracy: 0.8196\n",
            "Epoch 3/50\n",
            "1719/1719 [==============================] - 11s 6ms/step - loss: 0.5021 - accuracy: 0.8238 - val_loss: 0.4739 - val_accuracy: 0.8342\n",
            "Epoch 4/50\n",
            "1719/1719 [==============================] - 8s 5ms/step - loss: 0.4633 - accuracy: 0.8378 - val_loss: 0.4467 - val_accuracy: 0.8472\n",
            "Epoch 5/50\n",
            "1719/1719 [==============================] - 13s 8ms/step - loss: 0.4380 - accuracy: 0.8455 - val_loss: 0.4287 - val_accuracy: 0.8550\n",
            "Epoch 6/50\n",
            "1719/1719 [==============================] - 12s 7ms/step - loss: 0.4193 - accuracy: 0.8517 - val_loss: 0.4158 - val_accuracy: 0.8600\n",
            "Epoch 7/50\n",
            "1719/1719 [==============================] - 9s 5ms/step - loss: 0.4049 - accuracy: 0.8568 - val_loss: 0.4057 - val_accuracy: 0.8610\n",
            "Epoch 8/50\n",
            "1719/1719 [==============================] - 8s 5ms/step - loss: 0.3926 - accuracy: 0.8613 - val_loss: 0.3968 - val_accuracy: 0.8644\n",
            "Epoch 9/50\n",
            "1719/1719 [==============================] - 9s 5ms/step - loss: 0.3823 - accuracy: 0.8648 - val_loss: 0.3893 - val_accuracy: 0.8660\n",
            "Epoch 10/50\n",
            "1719/1719 [==============================] - 12s 7ms/step - loss: 0.3732 - accuracy: 0.8677 - val_loss: 0.3828 - val_accuracy: 0.8654\n",
            "Epoch 11/50\n",
            "1719/1719 [==============================] - 13s 8ms/step - loss: 0.3651 - accuracy: 0.8714 - val_loss: 0.3777 - val_accuracy: 0.8674\n",
            "Epoch 12/50\n",
            "1719/1719 [==============================] - 10s 6ms/step - loss: 0.3581 - accuracy: 0.8730 - val_loss: 0.3734 - val_accuracy: 0.8688\n",
            "Epoch 13/50\n",
            "1719/1719 [==============================] - 13s 7ms/step - loss: 0.3514 - accuracy: 0.8756 - val_loss: 0.3690 - val_accuracy: 0.8702\n",
            "Epoch 14/50\n",
            "1719/1719 [==============================] - 11s 6ms/step - loss: 0.3454 - accuracy: 0.8786 - val_loss: 0.3652 - val_accuracy: 0.8704\n",
            "Epoch 15/50\n",
            "1719/1719 [==============================] - 11s 6ms/step - loss: 0.3398 - accuracy: 0.8800 - val_loss: 0.3623 - val_accuracy: 0.8704\n",
            "Epoch 16/50\n",
            "1719/1719 [==============================] - 10s 6ms/step - loss: 0.3347 - accuracy: 0.8823 - val_loss: 0.3586 - val_accuracy: 0.8722\n",
            "Epoch 17/50\n",
            "1719/1719 [==============================] - 8s 5ms/step - loss: 0.3298 - accuracy: 0.8842 - val_loss: 0.3555 - val_accuracy: 0.8736\n",
            "Epoch 18/50\n",
            "1719/1719 [==============================] - 10s 6ms/step - loss: 0.3250 - accuracy: 0.8857 - val_loss: 0.3537 - val_accuracy: 0.8752\n",
            "Epoch 19/50\n",
            "1719/1719 [==============================] - 10s 6ms/step - loss: 0.3208 - accuracy: 0.8867 - val_loss: 0.3523 - val_accuracy: 0.8770\n",
            "Epoch 20/50\n",
            "1719/1719 [==============================] - 15s 9ms/step - loss: 0.3166 - accuracy: 0.8883 - val_loss: 0.3484 - val_accuracy: 0.8768\n",
            "Epoch 21/50\n",
            "1719/1719 [==============================] - 13s 8ms/step - loss: 0.3126 - accuracy: 0.8896 - val_loss: 0.3467 - val_accuracy: 0.8764\n",
            "Epoch 22/50\n",
            "1719/1719 [==============================] - 12s 7ms/step - loss: 0.3089 - accuracy: 0.8902 - val_loss: 0.3447 - val_accuracy: 0.8784\n",
            "Epoch 23/50\n",
            "1719/1719 [==============================] - 12s 7ms/step - loss: 0.3052 - accuracy: 0.8921 - val_loss: 0.3444 - val_accuracy: 0.8784\n",
            "Epoch 24/50\n",
            "1719/1719 [==============================] - 8s 5ms/step - loss: 0.3018 - accuracy: 0.8935 - val_loss: 0.3417 - val_accuracy: 0.8788\n",
            "Epoch 25/50\n",
            "1719/1719 [==============================] - 11s 6ms/step - loss: 0.2983 - accuracy: 0.8951 - val_loss: 0.3423 - val_accuracy: 0.8786\n",
            "Epoch 26/50\n",
            "1719/1719 [==============================] - 9s 5ms/step - loss: 0.2950 - accuracy: 0.8964 - val_loss: 0.3385 - val_accuracy: 0.8794\n",
            "Epoch 27/50\n",
            "1719/1719 [==============================] - 13s 8ms/step - loss: 0.2920 - accuracy: 0.8977 - val_loss: 0.3378 - val_accuracy: 0.8798\n",
            "Epoch 28/50\n",
            "1719/1719 [==============================] - 11s 6ms/step - loss: 0.2887 - accuracy: 0.8986 - val_loss: 0.3372 - val_accuracy: 0.8798\n",
            "Epoch 29/50\n",
            "1719/1719 [==============================] - 17s 10ms/step - loss: 0.2857 - accuracy: 0.8991 - val_loss: 0.3360 - val_accuracy: 0.8806\n",
            "Epoch 30/50\n",
            "1719/1719 [==============================] - 12s 7ms/step - loss: 0.2830 - accuracy: 0.9008 - val_loss: 0.3335 - val_accuracy: 0.8830\n",
            "Epoch 31/50\n",
            "1719/1719 [==============================] - 12s 7ms/step - loss: 0.2801 - accuracy: 0.9015 - val_loss: 0.3317 - val_accuracy: 0.8818\n",
            "Epoch 32/50\n",
            "1719/1719 [==============================] - 11s 6ms/step - loss: 0.2772 - accuracy: 0.9024 - val_loss: 0.3323 - val_accuracy: 0.8816\n",
            "Epoch 33/50\n",
            "1719/1719 [==============================] - 8s 5ms/step - loss: 0.2747 - accuracy: 0.9034 - val_loss: 0.3298 - val_accuracy: 0.8828\n",
            "Epoch 34/50\n",
            "1719/1719 [==============================] - 9s 5ms/step - loss: 0.2721 - accuracy: 0.9046 - val_loss: 0.3307 - val_accuracy: 0.8824\n",
            "Epoch 35/50\n",
            "1719/1719 [==============================] - 7s 4ms/step - loss: 0.2694 - accuracy: 0.9053 - val_loss: 0.3305 - val_accuracy: 0.8820\n",
            "Epoch 36/50\n",
            "1719/1719 [==============================] - 13s 8ms/step - loss: 0.2669 - accuracy: 0.9058 - val_loss: 0.3281 - val_accuracy: 0.8832\n",
            "Epoch 37/50\n",
            "1719/1719 [==============================] - 12s 7ms/step - loss: 0.2645 - accuracy: 0.9073 - val_loss: 0.3276 - val_accuracy: 0.8862\n",
            "Epoch 38/50\n",
            "1719/1719 [==============================] - 12s 7ms/step - loss: 0.2621 - accuracy: 0.9080 - val_loss: 0.3264 - val_accuracy: 0.8848\n",
            "Epoch 39/50\n",
            "1719/1719 [==============================] - 13s 8ms/step - loss: 0.2597 - accuracy: 0.9090 - val_loss: 0.3253 - val_accuracy: 0.8834\n",
            "Epoch 40/50\n",
            "1719/1719 [==============================] - 11s 6ms/step - loss: 0.2574 - accuracy: 0.9101 - val_loss: 0.3249 - val_accuracy: 0.8856\n",
            "Epoch 41/50\n",
            "1719/1719 [==============================] - 8s 5ms/step - loss: 0.2550 - accuracy: 0.9114 - val_loss: 0.3248 - val_accuracy: 0.8848\n",
            "Epoch 42/50\n",
            "1719/1719 [==============================] - 8s 5ms/step - loss: 0.2529 - accuracy: 0.9112 - val_loss: 0.3230 - val_accuracy: 0.8848\n",
            "Epoch 43/50\n",
            "1719/1719 [==============================] - 9s 5ms/step - loss: 0.2507 - accuracy: 0.9120 - val_loss: 0.3227 - val_accuracy: 0.8876\n",
            "Epoch 44/50\n",
            "1719/1719 [==============================] - 9s 5ms/step - loss: 0.2485 - accuracy: 0.9138 - val_loss: 0.3234 - val_accuracy: 0.8874\n",
            "Epoch 45/50\n",
            "1719/1719 [==============================] - 10s 6ms/step - loss: 0.2462 - accuracy: 0.9145 - val_loss: 0.3223 - val_accuracy: 0.8848\n",
            "Epoch 46/50\n",
            "1719/1719 [==============================] - 11s 6ms/step - loss: 0.2443 - accuracy: 0.9151 - val_loss: 0.3214 - val_accuracy: 0.8852\n",
            "Epoch 47/50\n",
            "1719/1719 [==============================] - 10s 6ms/step - loss: 0.2422 - accuracy: 0.9157 - val_loss: 0.3199 - val_accuracy: 0.8866\n",
            "Epoch 48/50\n",
            "1719/1719 [==============================] - 8s 5ms/step - loss: 0.2401 - accuracy: 0.9159 - val_loss: 0.3200 - val_accuracy: 0.8886\n",
            "Epoch 49/50\n",
            "1719/1719 [==============================] - 8s 5ms/step - loss: 0.2383 - accuracy: 0.9172 - val_loss: 0.3205 - val_accuracy: 0.8870\n",
            "Epoch 50/50\n",
            "1719/1719 [==============================] - 9s 5ms/step - loss: 0.2362 - accuracy: 0.9181 - val_loss: 0.3187 - val_accuracy: 0.8852\n"
          ]
        }
      ]
    },
    {
      "cell_type": "code",
      "source": [
        "# 4.2\n",
        "%tensorboard --logdir {root_logdir}"
      ],
      "metadata": {
        "colab": {
          "base_uri": "https://localhost:8080/",
          "height": 821
        },
        "id": "-hj5Iy_vxdcK",
        "outputId": "2f426b5f-8c3d-4ea9-8ad4-1aefd7e58cde"
      },
      "execution_count": 40,
      "outputs": [
        {
          "output_type": "display_data",
          "data": {
            "text/plain": [
              "<IPython.core.display.Javascript object>"
            ],
            "application/javascript": [
              "\n",
              "        (async () => {\n",
              "            const url = new URL(await google.colab.kernel.proxyPort(6006, {'cache': true}));\n",
              "            url.searchParams.set('tensorboardColab', 'true');\n",
              "            const iframe = document.createElement('iframe');\n",
              "            iframe.src = url;\n",
              "            iframe.setAttribute('width', '100%');\n",
              "            iframe.setAttribute('height', '800');\n",
              "            iframe.setAttribute('frameborder', 0);\n",
              "            document.body.appendChild(iframe);\n",
              "        })();\n",
              "    "
            ]
          },
          "metadata": {}
        }
      ]
    },
    {
      "cell_type": "code",
      "source": [
        "# 4.3\n",
        "model = keras.models.load_model(\"my_mnist_model.h5\")\n",
        "model.evaluate(X_valid_scaled, y_valid)"
      ],
      "metadata": {
        "colab": {
          "base_uri": "https://localhost:8080/"
        },
        "id": "7vNxsVMtxiq2",
        "outputId": "d1d1f0b9-9514-4b46-9e39-52fac046855e"
      },
      "execution_count": 41,
      "outputs": [
        {
          "output_type": "stream",
          "name": "stdout",
          "text": [
            "157/157 [==============================] - 1s 3ms/step - loss: 0.3187 - accuracy: 0.8852\n"
          ]
        },
        {
          "output_type": "execute_result",
          "data": {
            "text/plain": [
              "[0.31873050332069397, 0.885200023651123]"
            ]
          },
          "metadata": {},
          "execution_count": 41
        }
      ]
    },
    {
      "cell_type": "markdown",
      "source": [
        "#### **5. A neural net for regression**"
      ],
      "metadata": {
        "id": "_5QPCtM5yMYQ"
      }
    },
    {
      "cell_type": "code",
      "source": [
        "# 5.1 California housing data\n",
        "from sklearn.datasets import fetch_california_housing\n",
        "housing = fetch_california_housing()"
      ],
      "metadata": {
        "id": "k0_4hiheyG6z"
      },
      "execution_count": 42,
      "outputs": []
    },
    {
      "cell_type": "code",
      "source": [
        "print(housing.DESCR)"
      ],
      "metadata": {
        "colab": {
          "base_uri": "https://localhost:8080/"
        },
        "id": "3Zgtuv-Ryh-T",
        "outputId": "d807656f-fa5f-4ce5-effa-a11279829c17"
      },
      "execution_count": 43,
      "outputs": [
        {
          "output_type": "stream",
          "name": "stdout",
          "text": [
            ".. _california_housing_dataset:\n",
            "\n",
            "California Housing dataset\n",
            "--------------------------\n",
            "\n",
            "**Data Set Characteristics:**\n",
            "\n",
            "    :Number of Instances: 20640\n",
            "\n",
            "    :Number of Attributes: 8 numeric, predictive attributes and the target\n",
            "\n",
            "    :Attribute Information:\n",
            "        - MedInc        median income in block group\n",
            "        - HouseAge      median house age in block group\n",
            "        - AveRooms      average number of rooms per household\n",
            "        - AveBedrms     average number of bedrooms per household\n",
            "        - Population    block group population\n",
            "        - AveOccup      average number of household members\n",
            "        - Latitude      block group latitude\n",
            "        - Longitude     block group longitude\n",
            "\n",
            "    :Missing Attribute Values: None\n",
            "\n",
            "This dataset was obtained from the StatLib repository.\n",
            "https://www.dcc.fc.up.pt/~ltorgo/Regression/cal_housing.html\n",
            "\n",
            "The target variable is the median house value for California districts,\n",
            "expressed in hundreds of thousands of dollars ($100,000).\n",
            "\n",
            "This dataset was derived from the 1990 U.S. census, using one row per census\n",
            "block group. A block group is the smallest geographical unit for which the U.S.\n",
            "Census Bureau publishes sample data (a block group typically has a population\n",
            "of 600 to 3,000 people).\n",
            "\n",
            "A household is a group of people residing within a home. Since the average\n",
            "number of rooms and bedrooms in this dataset are provided per household, these\n",
            "columns may take surprisingly large values for block groups with few households\n",
            "and many empty houses, such as vacation resorts.\n",
            "\n",
            "It can be downloaded/loaded using the\n",
            ":func:`sklearn.datasets.fetch_california_housing` function.\n",
            "\n",
            ".. topic:: References\n",
            "\n",
            "    - Pace, R. Kelley and Ronald Barry, Sparse Spatial Autoregressions,\n",
            "      Statistics and Probability Letters, 33 (1997) 291-297\n",
            "\n"
          ]
        }
      ]
    },
    {
      "cell_type": "code",
      "source": [
        "housing.data.shape"
      ],
      "metadata": {
        "colab": {
          "base_uri": "https://localhost:8080/"
        },
        "id": "IPrPUOHTyi9T",
        "outputId": "a46531bd-e5be-4b05-bfd5-db168d1e9cdc"
      },
      "execution_count": 44,
      "outputs": [
        {
          "output_type": "execute_result",
          "data": {
            "text/plain": [
              "(20640, 8)"
            ]
          },
          "metadata": {},
          "execution_count": 44
        }
      ]
    },
    {
      "cell_type": "code",
      "source": [
        "housing.target.shape"
      ],
      "metadata": {
        "colab": {
          "base_uri": "https://localhost:8080/"
        },
        "id": "KTOQQEOyymV1",
        "outputId": "713d7a95-764a-4acc-cda6-df05c1d76960"
      },
      "execution_count": 45,
      "outputs": [
        {
          "output_type": "execute_result",
          "data": {
            "text/plain": [
              "(20640,)"
            ]
          },
          "metadata": {},
          "execution_count": 45
        }
      ]
    },
    {
      "cell_type": "code",
      "source": [
        "# 5.2\n",
        "from sklearn.model_selection import train_test_split\n",
        "\n",
        "X_train_full, X_test, y_train_full, y_test = train_test_split(housing.data, housing.target, random_state=42)\n",
        "X_train, X_valid, y_train, y_valid = train_test_split(X_train_full, y_train_full, random_state=42)"
      ],
      "metadata": {
        "id": "Duf7tXPByyqR"
      },
      "execution_count": 46,
      "outputs": []
    },
    {
      "cell_type": "code",
      "source": [
        "len(X_train), len(X_valid), len(X_test)"
      ],
      "metadata": {
        "colab": {
          "base_uri": "https://localhost:8080/"
        },
        "id": "13aG_dnFy6Qc",
        "outputId": "9cc306a8-9f1f-44bd-829c-ea3d577fd514"
      },
      "execution_count": 47,
      "outputs": [
        {
          "output_type": "execute_result",
          "data": {
            "text/plain": [
              "(11610, 3870, 5160)"
            ]
          },
          "metadata": {},
          "execution_count": 47
        }
      ]
    },
    {
      "cell_type": "code",
      "source": [
        "# 5.3\n",
        "from sklearn.preprocessing import StandardScaler\n",
        "\n",
        "scaler = StandardScaler()\n",
        "X_train_scaled = scaler.fit_transform(X_train)\n",
        "X_valid_scaled = scaler.transform(X_valid)\n",
        "X_test_scaled = scaler.transform(X_test)"
      ],
      "metadata": {
        "id": "ILVVNcPPy9z6"
      },
      "execution_count": 48,
      "outputs": []
    },
    {
      "cell_type": "code",
      "source": [
        "# 5.4\n",
        "model = keras.models.Sequential([\n",
        "    keras.layers.Dense(30, activation=\"relu\", input_shape=X_train.shape[1:]),\n",
        "    keras.layers.Dense(1)\n",
        "])\n",
        "model.compile(loss=\"mean_squared_error\", optimizer=keras.optimizers.SGD(1e-3))"
      ],
      "metadata": {
        "id": "RbNBUEXlzG2V"
      },
      "execution_count": 49,
      "outputs": []
    },
    {
      "cell_type": "code",
      "source": [
        "callbacks = [keras.callbacks.EarlyStopping(patience=10)]\n",
        "history = model.fit(X_train_scaled, y_train,\n",
        "                    validation_data=(X_valid_scaled, y_valid), epochs=100,\n",
        "                    callbacks=callbacks)"
      ],
      "metadata": {
        "colab": {
          "base_uri": "https://localhost:8080/"
        },
        "id": "TxZjjdAYzLtU",
        "outputId": "24b33b72-3bd1-42bf-faf4-9b399fa9da4b"
      },
      "execution_count": 50,
      "outputs": [
        {
          "output_type": "stream",
          "name": "stdout",
          "text": [
            "Epoch 1/100\n",
            "363/363 [==============================] - 4s 9ms/step - loss: 1.8841 - val_loss: 0.8418\n",
            "Epoch 2/100\n",
            "363/363 [==============================] - 3s 7ms/step - loss: 0.7778 - val_loss: 0.7579\n",
            "Epoch 3/100\n",
            "363/363 [==============================] - 2s 5ms/step - loss: 0.6973 - val_loss: 0.7402\n",
            "Epoch 4/100\n",
            "363/363 [==============================] - 1s 4ms/step - loss: 0.6473 - val_loss: 0.5939\n",
            "Epoch 5/100\n",
            "363/363 [==============================] - 2s 4ms/step - loss: 0.6049 - val_loss: 0.5983\n",
            "Epoch 6/100\n",
            "363/363 [==============================] - 1s 4ms/step - loss: 0.5709 - val_loss: 0.5368\n",
            "Epoch 7/100\n",
            "363/363 [==============================] - 1s 2ms/step - loss: 0.5415 - val_loss: 0.5501\n",
            "Epoch 8/100\n",
            "363/363 [==============================] - 1s 2ms/step - loss: 0.5189 - val_loss: 0.4908\n",
            "Epoch 9/100\n",
            "363/363 [==============================] - 1s 3ms/step - loss: 0.4999 - val_loss: 0.4727\n",
            "Epoch 10/100\n",
            "363/363 [==============================] - 1s 3ms/step - loss: 0.4849 - val_loss: 0.4563\n",
            "Epoch 11/100\n",
            "363/363 [==============================] - 1s 3ms/step - loss: 0.4731 - val_loss: 0.4464\n",
            "Epoch 12/100\n",
            "363/363 [==============================] - 1s 3ms/step - loss: 0.4637 - val_loss: 0.4342\n",
            "Epoch 13/100\n",
            "363/363 [==============================] - 1s 3ms/step - loss: 0.4561 - val_loss: 0.4284\n",
            "Epoch 14/100\n",
            "363/363 [==============================] - 1s 3ms/step - loss: 0.4500 - val_loss: 0.4277\n",
            "Epoch 15/100\n",
            "363/363 [==============================] - 1s 2ms/step - loss: 0.4447 - val_loss: 0.4235\n",
            "Epoch 16/100\n",
            "363/363 [==============================] - 1s 2ms/step - loss: 0.4404 - val_loss: 0.4213\n",
            "Epoch 17/100\n",
            "363/363 [==============================] - 1s 2ms/step - loss: 0.4365 - val_loss: 0.4296\n",
            "Epoch 18/100\n",
            "363/363 [==============================] - 1s 2ms/step - loss: 0.4333 - val_loss: 0.4414\n",
            "Epoch 19/100\n",
            "363/363 [==============================] - 1s 2ms/step - loss: 0.4302 - val_loss: 0.4463\n",
            "Epoch 20/100\n",
            "363/363 [==============================] - 1s 2ms/step - loss: 0.4281 - val_loss: 0.4205\n",
            "Epoch 21/100\n",
            "363/363 [==============================] - 1s 2ms/step - loss: 0.4253 - val_loss: 0.4229\n",
            "Epoch 22/100\n",
            "363/363 [==============================] - 1s 2ms/step - loss: 0.4229 - val_loss: 0.4141\n",
            "Epoch 23/100\n",
            "363/363 [==============================] - 1s 2ms/step - loss: 0.4211 - val_loss: 0.4147\n",
            "Epoch 24/100\n",
            "363/363 [==============================] - 1s 3ms/step - loss: 0.4189 - val_loss: 0.4207\n",
            "Epoch 25/100\n",
            "363/363 [==============================] - 1s 3ms/step - loss: 0.4174 - val_loss: 0.4494\n",
            "Epoch 26/100\n",
            "363/363 [==============================] - 1s 3ms/step - loss: 0.4158 - val_loss: 0.4045\n",
            "Epoch 27/100\n",
            "363/363 [==============================] - 1s 3ms/step - loss: 0.4138 - val_loss: 0.4407\n",
            "Epoch 28/100\n",
            "363/363 [==============================] - 1s 2ms/step - loss: 0.4127 - val_loss: 0.3997\n",
            "Epoch 29/100\n",
            "363/363 [==============================] - 1s 3ms/step - loss: 0.4109 - val_loss: 0.3994\n",
            "Epoch 30/100\n",
            "363/363 [==============================] - 1s 2ms/step - loss: 0.4101 - val_loss: 0.4014\n",
            "Epoch 31/100\n",
            "363/363 [==============================] - 1s 3ms/step - loss: 0.4085 - val_loss: 0.4418\n",
            "Epoch 32/100\n",
            "363/363 [==============================] - 1s 2ms/step - loss: 0.4073 - val_loss: 0.3993\n",
            "Epoch 33/100\n",
            "363/363 [==============================] - 1s 3ms/step - loss: 0.4061 - val_loss: 0.3967\n",
            "Epoch 34/100\n",
            "363/363 [==============================] - 1s 2ms/step - loss: 0.4049 - val_loss: 0.4239\n",
            "Epoch 35/100\n",
            "363/363 [==============================] - 1s 3ms/step - loss: 0.4038 - val_loss: 0.4345\n",
            "Epoch 36/100\n",
            "363/363 [==============================] - 1s 3ms/step - loss: 0.4029 - val_loss: 0.4114\n",
            "Epoch 37/100\n",
            "363/363 [==============================] - 1s 2ms/step - loss: 0.4016 - val_loss: 0.4357\n",
            "Epoch 38/100\n",
            "363/363 [==============================] - 1s 2ms/step - loss: 0.4006 - val_loss: 0.4432\n",
            "Epoch 39/100\n",
            "363/363 [==============================] - 1s 2ms/step - loss: 0.4001 - val_loss: 0.3913\n",
            "Epoch 40/100\n",
            "363/363 [==============================] - 1s 3ms/step - loss: 0.3987 - val_loss: 0.3942\n",
            "Epoch 41/100\n",
            "363/363 [==============================] - 1s 3ms/step - loss: 0.3978 - val_loss: 0.3888\n",
            "Epoch 42/100\n",
            "363/363 [==============================] - 1s 3ms/step - loss: 0.3970 - val_loss: 0.4392\n",
            "Epoch 43/100\n",
            "363/363 [==============================] - 1s 2ms/step - loss: 0.3963 - val_loss: 0.4071\n",
            "Epoch 44/100\n",
            "363/363 [==============================] - 1s 3ms/step - loss: 0.3952 - val_loss: 0.4264\n",
            "Epoch 45/100\n",
            "363/363 [==============================] - 1s 2ms/step - loss: 0.3945 - val_loss: 0.4021\n",
            "Epoch 46/100\n",
            "363/363 [==============================] - 1s 3ms/step - loss: 0.3937 - val_loss: 0.4167\n",
            "Epoch 47/100\n",
            "363/363 [==============================] - 1s 2ms/step - loss: 0.3929 - val_loss: 0.4453\n",
            "Epoch 48/100\n",
            "363/363 [==============================] - 1s 2ms/step - loss: 0.3921 - val_loss: 0.4381\n",
            "Epoch 49/100\n",
            "363/363 [==============================] - 1s 2ms/step - loss: 0.3912 - val_loss: 0.4537\n",
            "Epoch 50/100\n",
            "363/363 [==============================] - 1s 2ms/step - loss: 0.3908 - val_loss: 0.4305\n",
            "Epoch 51/100\n",
            "363/363 [==============================] - 1s 2ms/step - loss: 0.3898 - val_loss: 0.4270\n"
          ]
        }
      ]
    },
    {
      "cell_type": "code",
      "source": [
        "model.evaluate(X_test_scaled, y_test)"
      ],
      "metadata": {
        "colab": {
          "base_uri": "https://localhost:8080/"
        },
        "id": "WcnhOSN0zMs6",
        "outputId": "b8750147-739a-4f45-edaa-adeb5cdb53ff"
      },
      "execution_count": 51,
      "outputs": [
        {
          "output_type": "stream",
          "name": "stdout",
          "text": [
            "162/162 [==============================] - 0s 1ms/step - loss: 0.3877\n"
          ]
        },
        {
          "output_type": "execute_result",
          "data": {
            "text/plain": [
              "0.38773778080940247"
            ]
          },
          "metadata": {},
          "execution_count": 51
        }
      ]
    },
    {
      "cell_type": "code",
      "source": [
        "model.predict(X_test_scaled)"
      ],
      "metadata": {
        "colab": {
          "base_uri": "https://localhost:8080/"
        },
        "id": "ZIRf-LjdzSB3",
        "outputId": "086a7834-49a5-4204-8c00-43eba2435861"
      },
      "execution_count": 52,
      "outputs": [
        {
          "output_type": "stream",
          "name": "stdout",
          "text": [
            "162/162 [==============================] - 0s 1ms/step\n"
          ]
        },
        {
          "output_type": "execute_result",
          "data": {
            "text/plain": [
              "array([[0.67929065],\n",
              "       [1.6973372 ],\n",
              "       [3.7123272 ],\n",
              "       ...,\n",
              "       [1.404758  ],\n",
              "       [2.6054835 ],\n",
              "       [3.922883  ]], dtype=float32)"
            ]
          },
          "metadata": {},
          "execution_count": 52
        }
      ]
    },
    {
      "cell_type": "code",
      "source": [],
      "metadata": {
        "id": "UDr2WJVnz7MW"
      },
      "execution_count": null,
      "outputs": []
    }
  ]
}