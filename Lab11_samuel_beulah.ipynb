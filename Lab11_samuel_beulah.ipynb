{
 "cells": [
  {
   "cell_type": "code",
   "execution_count": 1,
   "id": "ac3e16e4",
   "metadata": {},
   "outputs": [],
   "source": [
    "# Import needed libraries\n",
    "import pandas as pd\n",
    "import matplotlib.pyplot as plt\n",
    "from sklearn import linear_model\n",
    "import numpy as np\n",
    "from sklearn.metrics import mean_squared_error\n",
    "from sklearn.model_selection import train_test_split\n",
    "from sklearn.metrics import r2_score"
   ]
  },
  {
   "cell_type": "code",
   "execution_count": 2,
   "id": "9aef94ce",
   "metadata": {},
   "outputs": [],
   "source": [
    "# Get data from github\n",
    "url =\"https://raw.githubusercontent.com/asukul/DS301-f19/master/datasets/Brain-BodySize/brain-bodysize.csv\""
   ]
  },
  {
   "cell_type": "code",
   "execution_count": 3,
   "id": "5699f890",
   "metadata": {},
   "outputs": [],
   "source": [
    "data = pd.read_csv(url)"
   ]
  },
  {
   "cell_type": "code",
   "execution_count": 4,
   "id": "91d596d7",
   "metadata": {},
   "outputs": [
    {
     "data": {
      "text/html": [
       "<div>\n",
       "<style scoped>\n",
       "    .dataframe tbody tr th:only-of-type {\n",
       "        vertical-align: middle;\n",
       "    }\n",
       "\n",
       "    .dataframe tbody tr th {\n",
       "        vertical-align: top;\n",
       "    }\n",
       "\n",
       "    .dataframe thead th {\n",
       "        text-align: right;\n",
       "    }\n",
       "</style>\n",
       "<table border=\"1\" class=\"dataframe\">\n",
       "  <thead>\n",
       "    <tr style=\"text-align: right;\">\n",
       "      <th></th>\n",
       "      <th>Brain</th>\n",
       "      <th>Body</th>\n",
       "    </tr>\n",
       "  </thead>\n",
       "  <tbody>\n",
       "    <tr>\n",
       "      <th>0</th>\n",
       "      <td>3.385</td>\n",
       "      <td>44.5</td>\n",
       "    </tr>\n",
       "    <tr>\n",
       "      <th>1</th>\n",
       "      <td>0.480</td>\n",
       "      <td>15.5</td>\n",
       "    </tr>\n",
       "    <tr>\n",
       "      <th>2</th>\n",
       "      <td>1.350</td>\n",
       "      <td>8.1</td>\n",
       "    </tr>\n",
       "    <tr>\n",
       "      <th>3</th>\n",
       "      <td>465.000</td>\n",
       "      <td>423.0</td>\n",
       "    </tr>\n",
       "    <tr>\n",
       "      <th>4</th>\n",
       "      <td>36.330</td>\n",
       "      <td>119.5</td>\n",
       "    </tr>\n",
       "  </tbody>\n",
       "</table>\n",
       "</div>"
      ],
      "text/plain": [
       "     Brain   Body\n",
       "0    3.385   44.5\n",
       "1    0.480   15.5\n",
       "2    1.350    8.1\n",
       "3  465.000  423.0\n",
       "4   36.330  119.5"
      ]
     },
     "execution_count": 4,
     "metadata": {},
     "output_type": "execute_result"
    }
   ],
   "source": [
    "# Explore data\n",
    "data.head()"
   ]
  },
  {
   "cell_type": "code",
   "execution_count": 5,
   "id": "475be9e6",
   "metadata": {},
   "outputs": [],
   "source": [
    "# Assign data to X and Y variables\n",
    "X = data[[\"Brain\"]]\n",
    "Y = data[[\"Body\"]]"
   ]
  },
  {
   "cell_type": "code",
   "execution_count": 6,
   "id": "4fb2cf53",
   "metadata": {},
   "outputs": [
    {
     "name": "stdout",
     "output_type": "stream",
     "text": [
      "      Brain\n",
      "0     3.385\n",
      "1     0.480\n",
      "2     1.350\n",
      "3   465.000\n",
      "4    36.330\n",
      "5    27.660\n",
      "6    14.830\n",
      "7     1.040\n",
      "8     4.190\n",
      "9     0.425\n",
      "10    0.101\n",
      "11    0.920\n",
      "12    1.000\n",
      "13    0.005\n",
      "14    0.060\n",
      "15    3.500\n",
      "16    2.000\n",
      "17    1.700\n",
      "18    0.023\n",
      "19  187.100\n",
      "20  521.000\n",
      "21    0.785\n",
      "22   10.000\n",
      "23    3.300\n",
      "24    0.200\n",
      "25    1.410\n",
      "26  529.000\n",
      "27  207.000\n",
      "28   85.000\n",
      "29    0.750\n",
      "30   62.000\n",
      "31    3.500\n",
      "32    6.800\n",
      "33   35.000\n",
      "34    4.050\n",
      "35    0.120\n",
      "36    0.023\n",
      "37    0.010\n",
      "38    1.400\n",
      "39  250.000\n",
      "40    2.500\n",
      "41   55.500\n",
      "42  100.000\n",
      "43   52.160\n",
      "44   10.550\n",
      "45    0.550\n",
      "46   60.000\n",
      "47    3.600\n",
      "48    4.288\n",
      "49    0.280\n",
      "50    0.075\n",
      "51    0.122\n",
      "52    0.048\n",
      "53  192.000\n",
      "54    3.000\n",
      "55  160.000\n",
      "56    0.900\n",
      "57    1.620\n",
      "58    0.104\n",
      "59    4.235\n"
     ]
    }
   ],
   "source": [
    "print(X)"
   ]
  },
  {
   "cell_type": "code",
   "execution_count": 7,
   "id": "5f1d5734",
   "metadata": {},
   "outputs": [
    {
     "name": "stdout",
     "output_type": "stream",
     "text": [
      "       Body\n",
      "0     44.50\n",
      "1     15.50\n",
      "2      8.10\n",
      "3    423.00\n",
      "4    119.50\n",
      "5    115.00\n",
      "6     98.20\n",
      "7      5.50\n",
      "8     58.00\n",
      "9      6.40\n",
      "10     4.00\n",
      "11     5.70\n",
      "12     6.60\n",
      "13     0.14\n",
      "14     1.00\n",
      "15    10.80\n",
      "16    12.30\n",
      "17     6.30\n",
      "18     0.30\n",
      "19   419.00\n",
      "20   655.00\n",
      "21     3.50\n",
      "22   115.00\n",
      "23    25.60\n",
      "24     5.00\n",
      "25    17.50\n",
      "26   680.00\n",
      "27   406.00\n",
      "28   325.00\n",
      "29    12.30\n",
      "30  1320.00\n",
      "31     3.90\n",
      "32   179.00\n",
      "33    56.00\n",
      "34    17.00\n",
      "35     1.00\n",
      "36     0.40\n",
      "37     0.25\n",
      "38    12.50\n",
      "39   490.00\n",
      "40    12.10\n",
      "41   175.00\n",
      "42   157.00\n",
      "43   440.00\n",
      "44   179.50\n",
      "45     2.40\n",
      "46    81.00\n",
      "47    21.00\n",
      "48    39.20\n",
      "49     1.90\n",
      "50     1.20\n",
      "51     3.00\n",
      "52     0.33\n",
      "53   180.00\n",
      "54    25.00\n",
      "55   169.00\n",
      "56     2.60\n",
      "57    11.40\n",
      "58     2.50\n",
      "59    50.40\n"
     ]
    }
   ],
   "source": [
    "print(Y)"
   ]
  },
  {
   "cell_type": "markdown",
   "id": "b8a452bc",
   "metadata": {},
   "source": [
    "##### Data visulaization with matplotlib"
   ]
  },
  {
   "cell_type": "code",
   "execution_count": 8,
   "id": "59f6eb28",
   "metadata": {},
   "outputs": [
    {
     "data": {
      "image/png": "[encoded data removed]",
      "text/plain": [
       "<Figure size 432x288 with 1 Axes>"
      ]
     },
     "metadata": {
      "needs_background": "light"
     },
     "output_type": "display_data"
    }
   ],
   "source": [
    "# Create a scatter plot \n",
    "plt.scatter(X,Y)\n",
    "plt.show()"
   ]
  },
  {
   "cell_type": "code",
   "execution_count": 9,
   "id": "2a0b8e39",
   "metadata": {},
   "outputs": [
    {
     "data": {
      "text/plain": [
       "<AxesSubplot:xlabel='Brain', ylabel='Body'>"
      ]
     },
     "execution_count": 9,
     "metadata": {},
     "output_type": "execute_result"
    },
    {
     "data": {
      "image/png": "[encoded data removed]",
      "text/plain": [
       "<Figure size 432x288 with 1 Axes>"
      ]
     },
     "metadata": {
      "needs_background": "light"
     },
     "output_type": "display_data"
    }
   ],
   "source": [
    "# Scatter plot with linear regression\n",
    "import seaborn as sns\n",
    "sns.regplot(data=data, x='Brain', y='Body')"
   ]
  },
  {
   "cell_type": "markdown",
   "id": "8d2775d7",
   "metadata": {},
   "source": [
    "##### Fit a linear model"
   ]
  },
  {
   "cell_type": "code",
   "execution_count": 10,
   "id": "4919d6c4",
   "metadata": {},
   "outputs": [
    {
     "data": {
      "text/plain": [
       "0.42322727989153086"
      ]
     },
     "execution_count": 10,
     "metadata": {},
     "output_type": "execute_result"
    }
   ],
   "source": [
    "model1 =linear_model.LinearRegression().fit(X,Y)\n",
    "model1.score(X,Y)"
   ]
  },
  {
   "cell_type": "markdown",
   "id": "8c4e1a6f",
   "metadata": {},
   "source": [
    "##### Making predictions for three new values (X)s"
   ]
  },
  {
   "cell_type": "code",
   "execution_count": 11,
   "id": "d10c781e",
   "metadata": {},
   "outputs": [
    {
     "data": {
      "text/plain": [
       "array([[59.43145292]])"
      ]
     },
     "execution_count": 11,
     "metadata": {},
     "output_type": "execute_result"
    }
   ],
   "source": [
    "new1 = np.array([[2.8]])\n",
    "model1.predict(new1)"
   ]
  },
  {
   "cell_type": "code",
   "execution_count": 12,
   "id": "e0e58c0c",
   "metadata": {},
   "outputs": [
    {
     "data": {
      "text/plain": [
       "array([[62.91104865]])"
      ]
     },
     "execution_count": 12,
     "metadata": {},
     "output_type": "execute_result"
    }
   ],
   "source": [
    "new2 = np.array([[5.6]])\n",
    "model1.predict(new2)"
   ]
  },
  {
   "cell_type": "code",
   "execution_count": 13,
   "id": "ed87c631",
   "metadata": {},
   "outputs": [
    {
     "data": {
      "text/plain": [
       "array([[105.66036763]])"
      ]
     },
     "execution_count": 13,
     "metadata": {},
     "output_type": "execute_result"
    }
   ],
   "source": [
    "new3 = np.array([[40]])\n",
    "model1.predict(new3)"
   ]
  },
  {
   "cell_type": "markdown",
   "id": "68d0e9f7",
   "metadata": {},
   "source": [
    "##### Calculate RMSE, and R2"
   ]
  },
  {
   "cell_type": "code",
   "execution_count": 14,
   "id": "27195f4e",
   "metadata": {},
   "outputs": [],
   "source": [
    "# Split data into train/test\n",
    "X_train, X_test, Y_train, Y_test = train_test_split(X, Y, test_size =0.3, random_state=90)\n",
    "# Fit a model\n",
    "model2 = linear_model.LinearRegression().fit(X_train, Y_train)\n",
    "#Make predictions based on X_test\n",
    "Y_pred = model2.predict(np.array(X_test))"
   ]
  },
  {
   "cell_type": "code",
   "execution_count": 15,
   "id": "70632d2b",
   "metadata": {},
   "outputs": [
    {
     "data": {
      "text/plain": [
       "array([[ 65.22761336],\n",
       "       [ 69.93823813],\n",
       "       [ 69.37596196],\n",
       "       [ 65.12765315],\n",
       "       [715.86860303],\n",
       "       [264.79816734],\n",
       "       [ 64.90649119],\n",
       "       [ 99.43899433],\n",
       "       [ 77.37277855],\n",
       "       [ 78.06000498],\n",
       "       [ 67.00190704],\n",
       "       [ 65.85861217],\n",
       "       [ 64.93772876],\n",
       "       [171.08547295],\n",
       "       [108.61034335],\n",
       "       [ 66.17723533],\n",
       "       [ 68.00150911],\n",
       "       [ 65.0077009 ]])"
      ]
     },
     "execution_count": 15,
     "metadata": {},
     "output_type": "execute_result"
    }
   ],
   "source": [
    "Y_pred"
   ]
  },
  {
   "cell_type": "code",
   "execution_count": 16,
   "id": "7aa8ca90",
   "metadata": {},
   "outputs": [
    {
     "name": "stdout",
     "output_type": "stream",
     "text": [
      "MSE 5037.706956594284\n"
     ]
    }
   ],
   "source": [
    "print (\"MSE\", mean_squared_error(y_true = Y_test, y_pred = Y_pred))"
   ]
  },
  {
   "cell_type": "code",
   "execution_count": 17,
   "id": "ef85593a",
   "metadata": {},
   "outputs": [
    {
     "name": "stdout",
     "output_type": "stream",
     "text": [
      "R2 0.8059655506986935\n"
     ]
    }
   ],
   "source": [
    "# Calculate R2\n",
    "print (\"R2\", r2_score(y_true = Y_test, y_pred = Y_pred))"
   ]
  },
  {
   "cell_type": "markdown",
   "id": "7a961bff",
   "metadata": {},
   "source": [
    "### Data Transformation: normalization"
   ]
  },
  {
   "cell_type": "code",
   "execution_count": 18,
   "id": "1b4f3b98",
   "metadata": {},
   "outputs": [],
   "source": [
    "from sklearn.preprocessing import StandardScaler"
   ]
  },
  {
   "cell_type": "code",
   "execution_count": 19,
   "id": "64337c19",
   "metadata": {},
   "outputs": [
    {
     "name": "stdout",
     "output_type": "stream",
     "text": [
      "      Brain\n",
      "49    0.280\n",
      "34    4.050\n",
      "47    3.600\n",
      "24    0.200\n",
      "20  521.000\n",
      "55  160.000\n",
      "36    0.023\n",
      "5    27.660\n",
      "22   10.000\n",
      "44   10.550\n",
      "17    1.700\n",
      "21    0.785\n",
      "52    0.048\n",
      "28   85.000\n",
      "33   35.000\n",
      "7     1.040\n",
      "40    2.500\n",
      "58    0.104 \n",
      " [[-0.45695232]\n",
      " [-0.42477617]\n",
      " [-0.42861683]\n",
      " [-0.4576351 ]\n",
      " [ 3.98728224]\n",
      " [ 0.90622394]\n",
      " [-0.45914576]\n",
      " [-0.22326984]\n",
      " [-0.37399419]\n",
      " [-0.36930005]\n",
      " [-0.44483292]\n",
      " [-0.45264225]\n",
      " [-0.45893239]\n",
      " [ 0.26611488]\n",
      " [-0.1606245 ]\n",
      " [-0.45046588]\n",
      " [-0.43800509]\n",
      " [-0.45845444]]\n"
     ]
    }
   ],
   "source": [
    "std = StandardScaler()\n",
    "std_X = std.fit(X_train, X_test)\n",
    "std_norm_X_train = std.transform(X_train)\n",
    "std_norm_X_test = std.transform(X_test)\n",
    "\n",
    "print(X_test, \"\\n\", std_norm_X_test)"
   ]
  },
  {
   "cell_type": "code",
   "execution_count": 20,
   "id": "54be0cba",
   "metadata": {},
   "outputs": [
    {
     "data": {
      "text/plain": [
       "0.3479682722602244"
      ]
     },
     "execution_count": 20,
     "metadata": {},
     "output_type": "execute_result"
    }
   ],
   "source": [
    "model3 =linear_model.LinearRegression().fit(std_norm_X_train, Y_train)\n",
    "model3.score(std_norm_X_train, Y_train)"
   ]
  }
 ],
 "metadata": {
  "kernelspec": {
   "display_name": "Python 3 (ipykernel)",
   "language": "python",
   "name": "python3"
  },
  "language_info": {
   "codemirror_mode": {
    "name": "ipython",
    "version": 3
   },
   "file_extension": ".py",
   "mimetype": "text/x-python",
   "name": "python",
   "nbconvert_exporter": "python",
   "pygments_lexer": "ipython3",
   "version": "3.9.7"
  }
 },
 "nbformat": 4,
 "nbformat_minor": 5
}
